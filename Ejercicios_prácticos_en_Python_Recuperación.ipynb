{
  "nbformat": 4,
  "nbformat_minor": 0,
  "metadata": {
    "colab": {
      "name": "Ejercicios prácticos en Python - Recuperación",
      "provenance": [],
      "collapsed_sections": [],
      "include_colab_link": true
    },
    "kernelspec": {
      "display_name": "Python 3",
      "name": "python3"
    }
  },
  "cells": [
    {
      "cell_type": "markdown",
      "metadata": {
        "id": "view-in-github",
        "colab_type": "text"
      },
      "source": [
        "<a href=\"https://colab.research.google.com/github/M-Adonay/Programacion_III/blob/main/Ejercicios_pr%C3%A1cticos_en_Python_Recuperaci%C3%B3n.ipynb\" target=\"_parent\"><img src=\"https://colab.research.google.com/assets/colab-badge.svg\" alt=\"Open In Colab\"/></a>"
      ]
    },
    {
      "cell_type": "markdown",
      "metadata": {
        "id": "5fCEDCU_qrC0"
      },
      "source": [
        "<p><img alt=\"Colaboratory logo\" height=\"45px\" src=\"/img/colab_favicon.ico\" align=\"left\" hspace=\"10px\" vspace=\"0px\"></p>\n",
        "\n",
        "<h1>¿Qué es Colaboratory?</h1>\n",
        "\n",
        "Colaboratory, también llamado Colab, te permite escribir y ejecutar código de Python en un navegador, con las siguientes particularidades:\n",
        "- Sin configuración requerida\n",
        "- Acceso gratuito a GPU\n",
        "- Facilidad para compartir\n",
        "\n",
        "Seas <strong>estudiante</strong>, <strong>científico de datos</strong> o <strong>investigador de IA</strong>, Colab facilita tu trabajo. Mira <a href=\"https://www.youtube.com/watch?v=inN8seMm7UI\">este video introductorio sobre Colab</a> para obtener más información, o bien comienza a usarlo más abajo."
      ]
    },
    {
      "cell_type": "markdown",
      "metadata": {
        "id": "GiHByDo-ddXf"
      },
      "source": [
        "# TAREA\n",
        "\n",
        "\n",
        "\n",
        "1.   Convertir de Celsius de Fahrenheit\n",
        "2.   Calcular la edad de una persona.\n",
        "3.   Obtener la nota final de ciclo\n",
        "\n",
        "\n"
      ]
    },
    {
      "cell_type": "markdown",
      "metadata": {
        "id": "_Em9yRxReaHn"
      },
      "source": [
        "1. **Convertir de Celsius de Fahrenheit**\n"
      ]
    },
    {
      "cell_type": "code",
      "metadata": {
        "id": "7Uh3WVS-r6id"
      },
      "source": [
        "#Grados Celcius a Farenheit.\n",
        "def convertircf(gc): \n",
        "  gc = (gc*9/5)+32\n",
        "  return gc\n",
        "  \n",
        "gc = float(input(\"Celcius: \"))\n",
        "print(\"Los\",str(gc), \"Grados Celcius a Fahrenheit son:\", str( convertircf(gc) ), \"Grados Farenheit.\")"
      ],
      "execution_count": null,
      "outputs": []
    },
    {
      "cell_type": "markdown",
      "metadata": {
        "id": "MlAbBvPsfVJ4"
      },
      "source": [
        "2. **Calcular la edad de una persona.**"
      ]
    },
    {
      "cell_type": "code",
      "metadata": {
        "id": "6cZ95LU9v1T2"
      },
      "source": [
        "# Calcular la edad de una persona.\n",
        " \n",
        "def calcularE(Aa,An):\n",
        " e = (Aa-An)\n",
        " return e\n",
        " \n",
        "Aa = int(input(\"Año Actual: \"))\n",
        "An = int(input(\"Año de Nacimiento: \"))\n",
        " \n",
        "print(\"La edad actual es:\",int( calcularE(Aa,An) ), \"años.\")"
      ],
      "execution_count": null,
      "outputs": []
    },
    {
      "cell_type": "markdown",
      "metadata": {
        "id": "uW_gnK2WfkcT"
      },
      "source": [
        "3. **Obtener la nota final de ciclo**"
      ]
    },
    {
      "cell_type": "code",
      "metadata": {
        "id": "MPUf-fVyyQzh"
      },
      "source": [
        "# Obtener la nota final de ciclo.\n",
        "\n",
        "def PromedioF(L1,L2,L1d,L2d,L1t,L2t,P1,P2,P3):\n",
        " c1 = ((L1+L2)*0.30)+P1*0.40\n",
        " c2 = ((L1d+L2d)*0.30)+P2*0.40\n",
        " c3 = ((L1t+L2t)*0.30)+P3*0.40\n",
        "\n",
        " p3 = (c1+c2+c3)/3\n",
        "\n",
        "\n",
        " return p3\n",
        "\n",
        "L1 = float(input(\"Laboratorio 1 computo 1: \"))\n",
        "L2 = float(input(\"Laboratorio 2 computo 1: \"))\n",
        "P1 = float(input(\"Parcial 1 computo 1: \"))\n",
        "\n",
        "L1d = float(input(\"Laboratorio 1 computo 2: \"))\n",
        "L2d = float(input(\"Laboratorio 2 computo 2: \"))\n",
        "P2 = float(input(\"Parcial 2 computo 2: \"))\n",
        "\n",
        "L1t = float(input(\"Laboratorio 1 computo 3: \"))\n",
        "L2t = float(input(\"Laboratorio 2 computo 3: \"))\n",
        "P3 = float(input(\"Parcial 3 computo 3: \"))\n",
        "\n",
        "print(\"El promedios es: \",float(PromedioF(L1,L2,L1d,L2d,L1t,L2t,P1,P2,P3) ))"
      ],
      "execution_count": null,
      "outputs": []
    },
    {
      "cell_type": "markdown",
      "metadata": {
        "id": "lWKp4wE4fvjS"
      },
      "source": [
        "# Tarea:\n",
        "1. Convertir de Celsius de Fahrenheit usando lambda\n",
        "2. Calcular la edad de una persona. usando lambda\n",
        "3. Obtener la nota final de ciclo usando lambda y build-in(map, filter, reduce)"
      ]
    },
    {
      "cell_type": "markdown",
      "metadata": {
        "id": "byP5GSGsgQ5c"
      },
      "source": [
        "1. **Convertir de Celsius de Fahrenheit usando lambda**"
      ]
    },
    {
      "cell_type": "code",
      "metadata": {
        "id": "J87fUvLs8Kbn"
      },
      "source": [
        "# Convertir Celcius a Farenheit utilizando lambda.\n",
        " \n",
        "convertircf = lambda cc: (cc*9/5)+32\n",
        "\n",
        "cc = float(input(\"Celcius: \"))\n",
        "print(\"Convertido:\", str(cc), \"Grados Celcius a Fahrenheit son:\", str( convertircf(cc) ), \"Grados Farenheit.\")"
      ],
      "execution_count": null,
      "outputs": []
    },
    {
      "cell_type": "markdown",
      "metadata": {
        "id": "tEgji87QgcSD"
      },
      "source": [
        "2. **Calcular la edad de una persona. usando lambda**"
      ]
    },
    {
      "cell_type": "code",
      "metadata": {
        "id": "KTIOrBDm9Afm"
      },
      "source": [
        "# Calcular la edad de una persona utilizando la funcion lambda\n",
        " \n",
        "calcularE = lambda Aa,An:  (Aa-An)\n",
        "\n",
        "Aa = int(input(\"Año Actual: \"))\n",
        "An = int(input(\"Año de Nacimiento: \"))\n",
        " \n",
        "print(\"La edad actual es:\",int( calcularE(Aa,An) ), \"años.\")"
      ],
      "execution_count": null,
      "outputs": []
    },
    {
      "cell_type": "markdown",
      "metadata": {
        "id": "dNCmOa8eglAT"
      },
      "source": [
        "3. **Obtener la nota final de ciclo usando lambda y build-in(map, filter, reduce)**"
      ]
    },
    {
      "cell_type": "code",
      "metadata": {
        "id": "qiDS_VIN9qQg"
      },
      "source": [
        "# Obtener la nota final de ciclo con lambda.\n",
        "\n",
        "promedio = lambda L1,L2,L1d,L2d,L1t,L2t,P1,P2,P3: (((L1+L2+L1d+L2d+L1t+L2t) * 0.3) + ((P1+P2+P3) * 0.4)) / 3\n",
        "\n",
        "L1 = float(input(\"Laboratorio 1 computo 1: \"))\n",
        "L2 = float(input(\"Laboratorio 2 computo 1: \"))\n",
        "P1 = float(input(\"Parcial 1 computo 1: \"))\n",
        "\n",
        "L1d = float(input(\"Laboratorio 1 computo 2: \"))\n",
        "L2d = float(input(\"Laboratorio 2 computo 2: \"))\n",
        "P2 = float(input(\"Parcial 2 computo 2: \"))\n",
        "\n",
        "L1t = float(input(\"Laboratorio 1 computo 3: \"))\n",
        "L2t = float(input(\"Laboratorio 2 computo 3: \"))\n",
        "P3 = float(input(\"Parcial 3 computo 3: \"))\n",
        "\n",
        "print(\"El promedio es:\",float( promedio(L1,L2,L1d,L2d,L1t,L2t,P1,P2,P3) ))"
      ],
      "execution_count": null,
      "outputs": []
    },
    {
      "cell_type": "markdown",
      "metadata": {
        "id": "436ys1q1izCC"
      },
      "source": [
        "# Ejercicios prácticos en Python\n",
        "1. Calcular sobre el sueldo las deducciones por ley ISSS (3%), AFP(6.25%), ISR(Según tabla) e imprima el total deducciones y sueldo neto. (20%)\n",
        "2. Calcular el valor a pagar según el número de metros consumidos de agua potable. (20%)\n",
        "3. Desarrolle la tabla de meses acumulados a n meses. Si puede encontrar la formula matemática para evitar ciclos. (10%)\n",
        "4. Conversores: (40%) (10 ítems como mínimo por cada uno)\n",
        "* Monedas (Resuelto en clases)\n",
        "* Longitud\n",
        "* Masa\n",
        "* Almacenamiento\n",
        "* Tiempo \n",
        "* Volumen\n",
        "* Área\n",
        "5. Realizar un conversor propio, donde espesifique el valor de conversión: (10%)\n",
        "* 1 caja -> 25 unidad. Viceversa 80 unidades – 3/5 -> cajas/unidades\n",
        "* 1 saco -> 50 libras. Viceversa 130 libras – 2/30 -> sacos/libras\n",
        "* 1 fardo -> 5 unidades. Viceversa 28 unidades – 5/3 -> fardos/unidades"
      ]
    },
    {
      "cell_type": "markdown",
      "metadata": {
        "id": "d9cysfKXktn_"
      },
      "source": [
        "1. **Calcular sobre el sueldo las deducciones por ley ISSS (3%), AFP(6.25%), ISR(Según tabla) e imprima el total deducciones y sueldo neto.**"
      ]
    },
    {
      "cell_type": "code",
      "metadata": {
        "colab": {
          "base_uri": "https://localhost:8080/"
        },
        "id": "7mkQwHOHkhla",
        "outputId": "2e9a1dba-b790-44b0-865a-4d2f86bbda1c"
      },
      "source": [
        "#Calcular sobre el sueldo las deducciones por ley ISSS (3%), AFP(6.25%), ISR(Según tabla) e imprima el total deducciones y sueldo neto.\n",
        "sueldo = float(input(\"Sueldo: \"))\n",
        "isss = sueldo*0.03\n",
        "afp = sueldo*0.0625\n",
        "sueldoNeto = sueldo-(isss + afp)\n",
        "\n",
        "tablaIsr = [\n",
        "            [0.01,472,0,0],\n",
        "            [472.01,895.24,0.2,17.67],\n",
        "            [895.25,2038.10,0.20,60],\n",
        "            [2038.11,99999,0.30,288.57]\n",
        "\n",
        "]\n",
        "for isr in tablaIsr:\n",
        "  if sueldoNeto >isr[0] and sueldoNeto <=isr[1]:\n",
        "    impSr=( sueldoNeto-isr[0])*isr[2] + isr[3] \n",
        "    print(impSr)\n",
        "print(\"Total de desucciones\", (isss+afp+impSr), \"El sueldo Neto: \", sueldoNeto-impSr)"
      ],
      "execution_count": 3,
      "outputs": [
        {
          "output_type": "stream",
          "name": "stdout",
          "text": [
            "Sueldo: 350\n",
            "0.0\n",
            "Total de desucciones 32.375 El sueldo Neto:  317.625\n"
          ]
        }
      ]
    },
    {
      "cell_type": "markdown",
      "metadata": {
        "id": "R8fO4-ltlVBM"
      },
      "source": [
        "2. **Calcular el valor a pagar según el número de metros consumidos de agua potable.**"
      ]
    },
    {
      "cell_type": "code",
      "metadata": {
        "id": "hWDhaTBeWXHJ"
      },
      "source": [
        "# Calcular el valor a pagar según el número de metros consumidos de agua potable.\n",
        " metros=int(input(\"Ingrese los metros de agua consumidos \"))\n",
        " if metros <= 18:\n",
        "    res=6\n",
        "    print(\"El pago sera de $ \",res)\n",
        " elif metros <= 28:\n",
        "    res=((metros-18)*0.45)+6\n",
        "    print(\"El pago sera de $ \",res)\n",
        " elif metros >= 29:\n",
        "    res=((metros-28)*0.65)+4.5+6\n",
        "    print(\"El pago sera de $ \",res)\n",
        " else:\n",
        "    print(\"ERROR EN INGRESO DE DATOS\")"
      ],
      "execution_count": null,
      "outputs": []
    },
    {
      "cell_type": "markdown",
      "metadata": {
        "id": "74fy-Fu_j56m"
      },
      "source": [
        "3. **Desarrolle la tabla de meses acumulados a n meses. Si puede encontrar la formula matemática para evitar ciclos.**"
      ]
    },
    {
      "cell_type": "code",
      "metadata": {
        "colab": {
          "base_uri": "https://localhost:8080/"
        },
        "id": "4G5mE3GAx6PP",
        "outputId": "23bd6644-2679-45c6-960d-558e2a59743e"
      },
      "source": [
        "#Desarrolle la tabla de meses acumulados a n meses. Si puede encontrar la formula matemática para evitar ciclos.\n",
        "M=int(input(\"Ingrese el número de meses: \"))\n",
        "ACM = 0.5* M**2+0.5*M\n",
        "print(\"La acumulación es: \",ACM)"
      ],
      "execution_count": null,
      "outputs": [
        {
          "output_type": "stream",
          "name": "stdout",
          "text": [
            "Ingrese el número de meses: 5\n",
            "La acumulación es:  15.0\n"
          ]
        }
      ]
    },
    {
      "cell_type": "markdown",
      "metadata": {
        "id": "zg3oGaPCnEvV"
      },
      "source": [
        "4. **Conversor** "
      ]
    },
    {
      "cell_type": "code",
      "metadata": {
        "colab": {
          "base_uri": "https://localhost:8080/"
        },
        "id": "FaYf3Ub-mdrL",
        "outputId": "75123df7-9e85-47df-fd69-96cac1e680e9"
      },
      "source": [
        "#Conversor \n",
        "valores = [\n",
        "           [],\n",
        "           [0, 1, 0.85, 23.8, 35.11, 7.74, 8.75, 621.61,8.29,19.99, 771.80], #monedas\n",
        "           [0,1000000., 1000.,100., 39.37, 3.28,1.09, 1., 0.001, 0.000621,0.00054],#Longitud\n",
        "           [0, 1.0,0.453592,16.0,453592.4,453.5924,4.535924,0.000454,0.000446,0.0005,45.35924],#Masa\n",
        "           [0,1.00 ,0.125,   0.001, 0.000125, 0.000001, 0.000000125, 0.000000001, 0.000000000125,0.000000000001,0.000000000000125],#Almacenamiento\n",
        "           [0,1.0,3.6e+12,3.6e+9,3.6e+6,3600.0,60.0,0.0416667,0.00595238,0.00136986,1.1416e-5,1.1416e-5],  #Tiempo\n",
        "           [0,1.0, 0.06, 0.001, 0.000001, 0.202884, 0.067628, 0.033814, 0.004227, 0.002113, 0.001057], #Volumen  \n",
        "           [0,1,0.01,10000,0.00386102,11959.9,107639,1.55e+7,2.47105,1.4196479273,15.903307888],#Area \n",
        "]\n",
        "etiquetas = [\n",
        "           [],\n",
        "           [\"1. Dolar\", \"2. Euro\", \"3. Lempira\",\"4. Cordobas\", \"5. Quetzalez\", \"6. Colon SV\", \"7. Colon CR\",\"8. Lira Turca\",\"9. Peso Mexicano\",\"10. Peso Chileno\"],\n",
        "           [\"1.Micrones\",\"2. Milimetros\",\"3. Centimetros \",\"4. Pulgadas \",\"5.Pies \",\"6. Yardas\",\"7. Metros \",\"8. Kilometros \",\"9. Milla \",\"10. Millas Nauticas\"],\n",
        "           [\"1. Libras \",\"2. Kilogramos\",\"3. Onzas \",\"4. Miligramos \",\"5. Gramos\",\"6. Hectogramos\",\"7. Toneladas Metricas\",\"8. Toneladas largas (Reino Unido) \",\"9. Toneladas Cortas(EE.UU.) \",\"10. Decagramos\"],\n",
        "           [\"1. Bits \",\"2. Bytes \",\"3. Kilobits\",\"4.Kilobytes \",\"5. Megabits\",\"6. Megabytes\",\"7. Gigabits\",\"8. Gigabytes\",\"9. Terabits\",\"10. Terabytes\"],\n",
        "           [\"1. Hora \",\"2.Nanosegundos\",\"3. Microsegundos\",\"4.Milisegundos \",\"5. Segundos \",\"6.Minutos \",\"7.Días \",\"8.Semanas \",\"9.Mes \",\"10. Decada \"],\n",
        "           [\"1.Mililitros \",\"2.Centimetros cúbicos \",\"3.Litros \",\"4.Metro cúbico \",\"5.Cucharadita (EE:UU) \",\"6.Cucharadas (EE:UU) \",\"7.Onzas líquidas \",\"8.Tazas \",\"9. Pintas\",\"10. Cuartos de galón \",],\n",
        "           [\"1.Hectaria \",\"2. Kilometro cuadrado \",\"3. Metro cuadrado \",\"4.Milla cuadrada \",\"5. Yarda cuadrada \",\"6.Pie cuadrado \",\"7. Pulgada cuadrada\",\"8. Acre \",\"9.Mazana (Nicaragua)\",\"10. Tarea \",],\n",
        "]\n",
        "def convertir(conversor, de, a, cantidad):\n",
        "  return valores[conversor][a]/valores[conversor][de] * cantidad\n",
        "\n",
        "print(\"*** MENU ***\")\n",
        "print(\"* 1. Monedas\")\n",
        "print(\"* 2. Longitud\")\n",
        "print(\"* 3. Masa\")\n",
        "print(\"* 4. Alamacenamiento\")\n",
        "print(\"* 5. Tiempo\")\n",
        "print(\"* 6. Volumen\")\n",
        "print(\"* 7. Area\")\n",
        "\n",
        "conversor = int(input(\"Conversor: \"))\n",
        "\n",
        "print( etiquetas[conversor] )\n",
        "\n",
        "de = int(input(\"DE: \"))\n",
        "a = int(input(\"A: \"))\n",
        "cantidad = float(input(\"Cant: \"))\n",
        "\n",
        "print(\"Respuesta: \", convertir(conversor, de, a, cantidad) )"
      ],
      "execution_count": 4,
      "outputs": [
        {
          "output_type": "stream",
          "name": "stdout",
          "text": [
            "*** MENU ***\n",
            "* 1. Monedas\n",
            "* 2. Longitud\n",
            "* 3. Masa\n",
            "* 4. Alamacenamiento\n",
            "* 5. Tiempo\n",
            "* 6. Volumen\n",
            "* 7. Area\n",
            "Conversor: 5\n",
            "['1. Hora ', '2.Nanosegundos', '3. Microsegundos', '4.Milisegundos ', '5. Segundos ', '6.Minutos ', '7.Días ', '8.Semanas ', '9.Mes ', '10. Decada ']\n",
            "DE: 1\n",
            "A: 6\n",
            "Cant: 1\n",
            "Respuesta:  60.0\n"
          ]
        }
      ]
    },
    {
      "cell_type": "markdown",
      "metadata": {
        "id": "ngTYpAIZoiRT"
      },
      "source": [
        "5. **Realizar un conversor propio, donde espesifique el valor de conversión**"
      ]
    },
    {
      "cell_type": "code",
      "metadata": {
        "colab": {
          "base_uri": "https://localhost:8080/"
        },
        "id": "cMzLRC5Jnhvw",
        "outputId": "1fdde279-7b92-41a3-bcf9-778fb43ef96b"
      },
      "source": [
        "#Conversor Propio\n",
        "print(\"***MENÚ***\")\n",
        "\n",
        "print(\"1. Cajas a Unidades\")\n",
        "print(\"2. Unidades a Cajas\")\n",
        "print(\"3. Saco a Libras\")\n",
        "print(\"4. Libras a Saco \")\n",
        "print(\"5. Fardos a Unidades\")\n",
        "print(\"6. Unidades a Fardos\")\n",
        "conv = int(input(\"Elija la opcion numerica para poder proseguir: \"))\n",
        "\n",
        "if conv == 1 :\n",
        "\n",
        "    C = float(input(\"Ingrese el numero de cajas \"))\n",
        "    u = (C * 25)\n",
        "    print(C,\"Cajas a Unidades son: \" , u)\n",
        "\n",
        "elif conv == 2 :\n",
        "  \n",
        "    U = float(input(\"Ingrese el número de Unidades: \"))\n",
        "    c = (U * 1)/25\n",
        "    print(U,\"unidades a cajas son: \" , c)\n",
        "\n",
        "elif conv == 3 :\n",
        "    S = float(input(\"Ingrese el número de  Sacos: \"))\n",
        "    l = (S * 50)/1\n",
        "    print(S,\"Saco a Libras son: \" , l)\n",
        "\n",
        "elif conv == 4 :\n",
        "    L = float(input(\"Ingrese número de libras: \"))\n",
        "    s = (L * 1)/50\n",
        "    print(L,\"Libras a Sacos son: \" , s)\n",
        "elif conv == 5 :\n",
        "    F = float(input(\"Ingrese el número de Fardos: \"))\n",
        "    uni = (F * 5)/1\n",
        "    print(F,\"Fardos a Unidades son: \" , uni)\n",
        "elif conv == 6 :\n",
        "    UNI = float(input(\"Ingrese el número de Unidades: \"))\n",
        "    f = (UNI * 1)/5\n",
        "    print(UNI,\"Unidades a Fardos son: \" , f)\n",
        "else :\n",
        "    print(\"Por favor intenete con los números que se encuentran en la lista\")\n"
      ],
      "execution_count": 5,
      "outputs": [
        {
          "output_type": "stream",
          "name": "stdout",
          "text": [
            "***MENÚ***\n",
            "1. Cajas a Unidades\n",
            "2. Unidades a Cajas\n",
            "3. Saco a Libras\n",
            "4. Libras a Saco \n",
            "5. Fardos a Unidades\n",
            "6. Unidades a Fardos\n",
            "Elija la opcion numerica para poder proseguir: 3\n",
            "Ingrese el número de  Sacos: 1\n",
            "1.0 Saco a Libras son:  50.0\n"
          ]
        }
      ]
    }
  ]
}