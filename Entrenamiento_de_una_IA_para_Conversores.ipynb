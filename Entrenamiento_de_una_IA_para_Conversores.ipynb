{
  "nbformat": 4,
  "nbformat_minor": 0,
  "metadata": {
    "colab": {
      "name": "Entrenamiento de una IA para Conversores",
      "provenance": [],
      "authorship_tag": "ABX9TyO1pbRJd5CnbjiKz6jd3ybY",
      "include_colab_link": true
    },
    "kernelspec": {
      "name": "python3",
      "display_name": "Python 3"
    },
    "language_info": {
      "name": "python"
    }
  },
  "cells": [
    {
      "cell_type": "markdown",
      "metadata": {
        "id": "view-in-github",
        "colab_type": "text"
      },
      "source": [
        "<a href=\"https://colab.research.google.com/github/M-Adonay/Programacion_III/blob/main/Entrenamiento_de_una_IA_para_Conversores.ipynb\" target=\"_parent\"><img src=\"https://colab.research.google.com/assets/colab-badge.svg\" alt=\"Open In Colab\"/></a>"
      ]
    },
    {
      "cell_type": "markdown",
      "metadata": {
        "id": "FdrfcZ81J4wJ"
      },
      "source": [
        "# **USO DE TENSORFLOW PARA CONVERTIR LONGITUDES MILIMETROS A METROS**"
      ]
    },
    {
      "cell_type": "code",
      "metadata": {
        "id": "psRM9653Htcv"
      },
      "source": [
        "#importando las librerias\n",
        "import tensorflow as tf\n",
        "import pandas as pd\n",
        "import matplotlib.pyplot as plt"
      ],
      "execution_count": 16,
      "outputs": []
    },
    {
      "cell_type": "code",
      "metadata": {
        "colab": {
          "base_uri": "https://localhost:8080/"
        },
        "id": "_Cyhr3LiHtdO",
        "outputId": "9d7f0dd6-e214-4da7-bba5-9609f1ef1e74"
      },
      "source": [
        "#leer los datos de entrenamiento\n",
        "longitud = pd.read_csv(\"/content/DatosA.csv\", sep=\";\")\n",
        "print(longitud)"
      ],
      "execution_count": 17,
      "outputs": [
        {
          "output_type": "stream",
          "name": "stdout",
          "text": [
            "    milimetro  metro  ...  kilometro cuadrado  milla cuadrada\n",
            "0           1  0.001  ...                   1        0.386100\n",
            "1           2  0.002  ...                   2        0.772201\n",
            "2           3  0.003  ...                   3        1.158301\n",
            "3           4  0.004  ...                   4        1.544401\n",
            "4           5  0.005  ...                   5        1.930502\n",
            "5          10  0.010  ...                  10        3.861004\n",
            "6          15  0.015  ...                  15        5.791506\n",
            "7          20  0.020  ...                  20        7.722008\n",
            "8          25  0.025  ...                  25        9.652510\n",
            "9          30  0.030  ...                  30       11.583012\n",
            "10         35  0.035  ...                  35       13.513514\n",
            "11         40  0.040  ...                  40       15.444015\n",
            "12         45  0.045  ...                  45       17.374517\n",
            "13         50  0.050  ...                  50       19.305019\n",
            "14         51  0.051  ...                  51       19.691120\n",
            "15         52  0.052  ...                  52       20.077220\n",
            "16         53  0.053  ...                  53       20.463320\n",
            "17         54  0.054  ...                  54       20.849421\n",
            "18         55  0.055  ...                  55       21.235521\n",
            "19         60  0.060  ...                  60       23.166023\n",
            "20         65  0.065  ...                  65       25.096525\n",
            "21         70  0.070  ...                  70       27.027027\n",
            "22         75  0.075  ...                  75       28.957529\n",
            "23         80  0.080  ...                  80       30.888031\n",
            "24         85  0.085  ...                  85       32.818533\n",
            "25         90  0.090  ...                  90       34.749035\n",
            "26         95  0.095  ...                  95       36.679537\n",
            "27        100  0.100  ...                 100       38.610039\n",
            "28        105  0.105  ...                 105       40.540541\n",
            "29        110  0.110  ...                 110       42.471042\n",
            "\n",
            "[30 rows x 14 columns]\n"
          ]
        }
      ]
    },
    {
      "cell_type": "code",
      "metadata": {
        "id": "NKEMIm55HtdO"
      },
      "source": [
        "#separar los datos de entrada y salida\n",
        "ml = longitud[\"milimetro\"]\n",
        "m = longitud[\"metro\"]"
      ],
      "execution_count": 18,
      "outputs": []
    },
    {
      "cell_type": "code",
      "metadata": {
        "id": "9Zrub6g1HtdP"
      },
      "source": [
        "#creando el modelo de entrenamiento\n",
        "modelo = tf.keras.Sequential()\n",
        "modelo.add(tf.keras.layers.Dense(units=1, input_shape=[1]))"
      ],
      "execution_count": 19,
      "outputs": []
    },
    {
      "cell_type": "code",
      "metadata": {
        "id": "i6KyOCLSHtdQ"
      },
      "source": [
        "#compilar el modelo de entrenamiento\n",
        "modelo.compile(optimizer=tf.keras.optimizers.Adam(1),loss='mean_squared_error')"
      ],
      "execution_count": 20,
      "outputs": []
    },
    {
      "cell_type": "code",
      "metadata": {
        "id": "G_H6XsegHtdR"
      },
      "source": [
        "#entrenar el modelo de aprendizaje\n",
        "historial = modelo.fit(ml, m, epochs=2400, verbose=0)"
      ],
      "execution_count": 21,
      "outputs": []
    },
    {
      "cell_type": "code",
      "metadata": {
        "colab": {
          "base_uri": "https://localhost:8080/"
        },
        "id": "iYnBqBQlHtdV",
        "outputId": "56b08eb2-92b3-4f1b-8f7a-a470966e2730"
      },
      "source": [
        "metro = modelo.predict([25000])\n",
        "print(metro)"
      ],
      "execution_count": 22,
      "outputs": [
        {
          "output_type": "stream",
          "name": "stdout",
          "text": [
            "[[24.99999]]\n"
          ]
        }
      ]
    },
    {
      "cell_type": "markdown",
      "metadata": {
        "id": "DV2_qLKeQEeT"
      },
      "source": [
        "# **USO DE TENSORFLOW PARA CONVERTIR MASA KILOGRAMO A LIBRAS**"
      ]
    },
    {
      "cell_type": "code",
      "metadata": {
        "id": "b_NNuYRwC8CM"
      },
      "source": [
        "#importando las librerias\n",
        "import tensorflow as tf\n",
        "import pandas as pd\n",
        "import matplotlib.pyplot as plt"
      ],
      "execution_count": 23,
      "outputs": []
    },
    {
      "cell_type": "code",
      "metadata": {
        "id": "1xHb46UHDcDl"
      },
      "source": [
        "#leer los datos de entrenamiento\n",
        "masa = pd.read_csv(\"/content/DatosA.csv\", sep=\";\")"
      ],
      "execution_count": 24,
      "outputs": []
    },
    {
      "cell_type": "code",
      "metadata": {
        "id": "8rpCDXLXDo2k"
      },
      "source": [
        "#separar los datos de entrada y salida\n",
        "k = masa[\"kilogramo\"]\n",
        "l = masa[\"libra\"]"
      ],
      "execution_count": 25,
      "outputs": []
    },
    {
      "cell_type": "code",
      "metadata": {
        "id": "IzDzx8xyDto0"
      },
      "source": [
        "#creando el modelo de entrenamiento\n",
        "modelo = tf.keras.Sequential()\n",
        "modelo.add(tf.keras.layers.Dense(units=1, input_shape=[1]))"
      ],
      "execution_count": 26,
      "outputs": []
    },
    {
      "cell_type": "code",
      "metadata": {
        "id": "ct40glgGDzFO"
      },
      "source": [
        "#compilar el modelo de entrenamiento\n",
        "modelo.compile(optimizer=tf.keras.optimizers.Adam(1),loss='mean_squared_error')"
      ],
      "execution_count": 27,
      "outputs": []
    },
    {
      "cell_type": "code",
      "metadata": {
        "id": "O9VUpPZ0D3Co"
      },
      "source": [
        "#entrenar el modelo de aprendizaje\n",
        "historial = modelo.fit(k, l, epochs=2400, verbose=0)"
      ],
      "execution_count": 28,
      "outputs": []
    },
    {
      "cell_type": "code",
      "metadata": {
        "colab": {
          "base_uri": "https://localhost:8080/"
        },
        "id": "FEY-ldgGD8l2",
        "outputId": "f0348adb-d376-494f-881f-a3ac7c1308ce"
      },
      "source": [
        "libra = modelo.predict([25000])\n",
        "print(libra)"
      ],
      "execution_count": 29,
      "outputs": [
        {
          "output_type": "stream",
          "name": "stdout",
          "text": [
            "[[55115.508]]\n"
          ]
        }
      ]
    },
    {
      "cell_type": "markdown",
      "metadata": {
        "id": "0YB8SHqYOv6W"
      },
      "source": [
        "# **USO DE TENSORFLOW PARA CONVERTIR ALMACENAMIENTO BYTE A KIBIBYTE**"
      ]
    },
    {
      "cell_type": "code",
      "metadata": {
        "id": "BqWmRf9PK8Or"
      },
      "source": [
        "#importando las librerias\n",
        "import tensorflow as tf\n",
        "import pandas as pd\n",
        "import matplotlib.pyplot as plt"
      ],
      "execution_count": 30,
      "outputs": []
    },
    {
      "cell_type": "code",
      "metadata": {
        "colab": {
          "base_uri": "https://localhost:8080/"
        },
        "id": "Yyw-1qc_K8Ot",
        "outputId": "b660c757-bf4b-4bde-f17b-706e0487ebdf"
      },
      "source": [
        "#leer los datos de entrenamiento\n",
        "almacenamiento = pd.read_csv(\"/content/DatosA.csv\", sep=\";\")\n",
        "print(almacenamiento)"
      ],
      "execution_count": 31,
      "outputs": [
        {
          "output_type": "stream",
          "name": "stdout",
          "text": [
            "    milimetro  metro  ...  kilometro cuadrado  milla cuadrada\n",
            "0           1  0.001  ...                   1        0.386100\n",
            "1           2  0.002  ...                   2        0.772201\n",
            "2           3  0.003  ...                   3        1.158301\n",
            "3           4  0.004  ...                   4        1.544401\n",
            "4           5  0.005  ...                   5        1.930502\n",
            "5          10  0.010  ...                  10        3.861004\n",
            "6          15  0.015  ...                  15        5.791506\n",
            "7          20  0.020  ...                  20        7.722008\n",
            "8          25  0.025  ...                  25        9.652510\n",
            "9          30  0.030  ...                  30       11.583012\n",
            "10         35  0.035  ...                  35       13.513514\n",
            "11         40  0.040  ...                  40       15.444015\n",
            "12         45  0.045  ...                  45       17.374517\n",
            "13         50  0.050  ...                  50       19.305019\n",
            "14         51  0.051  ...                  51       19.691120\n",
            "15         52  0.052  ...                  52       20.077220\n",
            "16         53  0.053  ...                  53       20.463320\n",
            "17         54  0.054  ...                  54       20.849421\n",
            "18         55  0.055  ...                  55       21.235521\n",
            "19         60  0.060  ...                  60       23.166023\n",
            "20         65  0.065  ...                  65       25.096525\n",
            "21         70  0.070  ...                  70       27.027027\n",
            "22         75  0.075  ...                  75       28.957529\n",
            "23         80  0.080  ...                  80       30.888031\n",
            "24         85  0.085  ...                  85       32.818533\n",
            "25         90  0.090  ...                  90       34.749035\n",
            "26         95  0.095  ...                  95       36.679537\n",
            "27        100  0.100  ...                 100       38.610039\n",
            "28        105  0.105  ...                 105       40.540541\n",
            "29        110  0.110  ...                 110       42.471042\n",
            "\n",
            "[30 rows x 14 columns]\n"
          ]
        }
      ]
    },
    {
      "cell_type": "code",
      "metadata": {
        "id": "WpdkYQvPK8Ov"
      },
      "source": [
        "#separar los datos de entrada y salida\n",
        "b = almacenamiento[\"byte\"]\n",
        "kib = almacenamiento[\"kibibyte\"]"
      ],
      "execution_count": 32,
      "outputs": []
    },
    {
      "cell_type": "code",
      "metadata": {
        "id": "WklHiPRXK8Ow"
      },
      "source": [
        "#creando el modelo de entrenamiento\n",
        "modelo = tf.keras.Sequential()\n",
        "modelo.add(tf.keras.layers.Dense(units=1, input_shape=[1]))"
      ],
      "execution_count": 33,
      "outputs": []
    },
    {
      "cell_type": "code",
      "metadata": {
        "id": "opzcrVJ-K8Ox"
      },
      "source": [
        "#compilar el modelo de entrenamiento\n",
        "modelo.compile(optimizer=tf.keras.optimizers.Adam(1),loss='mean_squared_error')"
      ],
      "execution_count": 34,
      "outputs": []
    },
    {
      "cell_type": "code",
      "metadata": {
        "id": "yMOOU-bbK8O2"
      },
      "source": [
        "#entrenar el modelo de aprendizaje\n",
        "historial = modelo.fit(b, kib, epochs=2400, verbose=0)"
      ],
      "execution_count": 35,
      "outputs": []
    },
    {
      "cell_type": "code",
      "metadata": {
        "colab": {
          "base_uri": "https://localhost:8080/"
        },
        "id": "9MoD_Z7mK8O3",
        "outputId": "d249b95e-5cdf-48d5-9e99-e8e00220f14c"
      },
      "source": [
        "byte = modelo.predict([25000])\n",
        "print(byte)"
      ],
      "execution_count": 36,
      "outputs": [
        {
          "output_type": "stream",
          "name": "stdout",
          "text": [
            "WARNING:tensorflow:5 out of the last 6 calls to <function Model.make_predict_function.<locals>.predict_function at 0x7fa2a1c03b90> triggered tf.function retracing. Tracing is expensive and the excessive number of tracings could be due to (1) creating @tf.function repeatedly in a loop, (2) passing tensors with different shapes, (3) passing Python objects instead of tensors. For (1), please define your @tf.function outside of the loop. For (2), @tf.function has experimental_relax_shapes=True option that relaxes argument shapes that can avoid unnecessary retracing. For (3), please refer to https://www.tensorflow.org/guide/function#controlling_retracing and https://www.tensorflow.org/api_docs/python/tf/function for  more details.\n",
            "[[24.414062]]\n"
          ]
        }
      ]
    },
    {
      "cell_type": "markdown",
      "metadata": {
        "id": "_LHZVn5IR4Or"
      },
      "source": [
        "# **USO DE TENSORFLOW PARA CONVERTIR TIEMPO SEGUNDOS A MINUTOS**"
      ]
    },
    {
      "cell_type": "code",
      "metadata": {
        "id": "FijL8eieR4O9"
      },
      "source": [
        "#importando las librerias\n",
        "import tensorflow as tf\n",
        "import pandas as pd\n",
        "import matplotlib.pyplot as plt"
      ],
      "execution_count": 37,
      "outputs": []
    },
    {
      "cell_type": "code",
      "metadata": {
        "colab": {
          "base_uri": "https://localhost:8080/"
        },
        "id": "pp9BNgrmR4O-",
        "outputId": "8c930f99-b629-4d37-eeac-cde2bd6a4a4d"
      },
      "source": [
        "#leer los datos de entrenamiento\n",
        "Tiempo = pd.read_csv(\"/content/DatosA.csv\", sep=\";\")\n",
        "print(Tiempo)"
      ],
      "execution_count": 38,
      "outputs": [
        {
          "output_type": "stream",
          "name": "stdout",
          "text": [
            "    milimetro  metro  ...  kilometro cuadrado  milla cuadrada\n",
            "0           1  0.001  ...                   1        0.386100\n",
            "1           2  0.002  ...                   2        0.772201\n",
            "2           3  0.003  ...                   3        1.158301\n",
            "3           4  0.004  ...                   4        1.544401\n",
            "4           5  0.005  ...                   5        1.930502\n",
            "5          10  0.010  ...                  10        3.861004\n",
            "6          15  0.015  ...                  15        5.791506\n",
            "7          20  0.020  ...                  20        7.722008\n",
            "8          25  0.025  ...                  25        9.652510\n",
            "9          30  0.030  ...                  30       11.583012\n",
            "10         35  0.035  ...                  35       13.513514\n",
            "11         40  0.040  ...                  40       15.444015\n",
            "12         45  0.045  ...                  45       17.374517\n",
            "13         50  0.050  ...                  50       19.305019\n",
            "14         51  0.051  ...                  51       19.691120\n",
            "15         52  0.052  ...                  52       20.077220\n",
            "16         53  0.053  ...                  53       20.463320\n",
            "17         54  0.054  ...                  54       20.849421\n",
            "18         55  0.055  ...                  55       21.235521\n",
            "19         60  0.060  ...                  60       23.166023\n",
            "20         65  0.065  ...                  65       25.096525\n",
            "21         70  0.070  ...                  70       27.027027\n",
            "22         75  0.075  ...                  75       28.957529\n",
            "23         80  0.080  ...                  80       30.888031\n",
            "24         85  0.085  ...                  85       32.818533\n",
            "25         90  0.090  ...                  90       34.749035\n",
            "26         95  0.095  ...                  95       36.679537\n",
            "27        100  0.100  ...                 100       38.610039\n",
            "28        105  0.105  ...                 105       40.540541\n",
            "29        110  0.110  ...                 110       42.471042\n",
            "\n",
            "[30 rows x 14 columns]\n"
          ]
        }
      ]
    },
    {
      "cell_type": "code",
      "metadata": {
        "id": "YGlFbNw7R4O_"
      },
      "source": [
        "#separar los datos de entrada y salida\n",
        "seg = Tiempo[\"segundos\"]\n",
        "min = Tiempo[\"minutos\"]"
      ],
      "execution_count": 39,
      "outputs": []
    },
    {
      "cell_type": "code",
      "metadata": {
        "id": "6lal1XDOR4O_"
      },
      "source": [
        "#creando el modelo de entrenamiento\n",
        "modelo = tf.keras.Sequential()\n",
        "modelo.add(tf.keras.layers.Dense(units=1, input_shape=[1]))"
      ],
      "execution_count": 40,
      "outputs": []
    },
    {
      "cell_type": "code",
      "metadata": {
        "id": "E28vqfzjR4PA"
      },
      "source": [
        "#compilar el modelo de entrenamiento\n",
        "modelo.compile(optimizer=tf.keras.optimizers.Adam(1),loss='mean_squared_error')"
      ],
      "execution_count": 41,
      "outputs": []
    },
    {
      "cell_type": "code",
      "metadata": {
        "id": "ePeYwdsvR4PA"
      },
      "source": [
        "#entrenar el modelo de aprendizaje\n",
        "historial = modelo.fit(seg, min, epochs=2400, verbose=0)"
      ],
      "execution_count": 42,
      "outputs": []
    },
    {
      "cell_type": "code",
      "metadata": {
        "colab": {
          "base_uri": "https://localhost:8080/"
        },
        "id": "ASX0YUSJR4PB",
        "outputId": "e8a803ce-f459-4bb4-9e15-50b8b0e6fe0b"
      },
      "source": [
        "minuto = modelo.predict([25000])\n",
        "print(minuto)"
      ],
      "execution_count": 43,
      "outputs": [
        {
          "output_type": "stream",
          "name": "stdout",
          "text": [
            "WARNING:tensorflow:6 out of the last 7 calls to <function Model.make_predict_function.<locals>.predict_function at 0x7fa2a1b3c3b0> triggered tf.function retracing. Tracing is expensive and the excessive number of tracings could be due to (1) creating @tf.function repeatedly in a loop, (2) passing tensors with different shapes, (3) passing Python objects instead of tensors. For (1), please define your @tf.function outside of the loop. For (2), @tf.function has experimental_relax_shapes=True option that relaxes argument shapes that can avoid unnecessary retracing. For (3), please refer to https://www.tensorflow.org/guide/function#controlling_retracing and https://www.tensorflow.org/api_docs/python/tf/function for  more details.\n",
            "[[416.66653]]\n"
          ]
        }
      ]
    },
    {
      "cell_type": "markdown",
      "metadata": {
        "id": "tgf1aq25Tr4N"
      },
      "source": [
        "# **USO DE TENSORFLOW PARA CONVERTIR AREA KILOMETROS CUADRADOS A MILLAS CUADRADAS**"
      ]
    },
    {
      "cell_type": "code",
      "metadata": {
        "id": "-I2RoGimTr4m"
      },
      "source": [
        "#importando las librerias\n",
        "import tensorflow as tf\n",
        "import pandas as pd\n",
        "import matplotlib.pyplot as plt"
      ],
      "execution_count": 44,
      "outputs": []
    },
    {
      "cell_type": "code",
      "metadata": {
        "colab": {
          "base_uri": "https://localhost:8080/"
        },
        "id": "4zt4QpIQTr4o",
        "outputId": "ed2137ba-24d7-4de9-dd7e-738e74e311f0"
      },
      "source": [
        "#leer los datos de entrenamiento\n",
        "Area = pd.read_csv(\"/content/DatosA.csv\", sep=\";\")\n",
        "print(Area)"
      ],
      "execution_count": 45,
      "outputs": [
        {
          "output_type": "stream",
          "name": "stdout",
          "text": [
            "    milimetro  metro  ...  kilometro cuadrado  milla cuadrada\n",
            "0           1  0.001  ...                   1        0.386100\n",
            "1           2  0.002  ...                   2        0.772201\n",
            "2           3  0.003  ...                   3        1.158301\n",
            "3           4  0.004  ...                   4        1.544401\n",
            "4           5  0.005  ...                   5        1.930502\n",
            "5          10  0.010  ...                  10        3.861004\n",
            "6          15  0.015  ...                  15        5.791506\n",
            "7          20  0.020  ...                  20        7.722008\n",
            "8          25  0.025  ...                  25        9.652510\n",
            "9          30  0.030  ...                  30       11.583012\n",
            "10         35  0.035  ...                  35       13.513514\n",
            "11         40  0.040  ...                  40       15.444015\n",
            "12         45  0.045  ...                  45       17.374517\n",
            "13         50  0.050  ...                  50       19.305019\n",
            "14         51  0.051  ...                  51       19.691120\n",
            "15         52  0.052  ...                  52       20.077220\n",
            "16         53  0.053  ...                  53       20.463320\n",
            "17         54  0.054  ...                  54       20.849421\n",
            "18         55  0.055  ...                  55       21.235521\n",
            "19         60  0.060  ...                  60       23.166023\n",
            "20         65  0.065  ...                  65       25.096525\n",
            "21         70  0.070  ...                  70       27.027027\n",
            "22         75  0.075  ...                  75       28.957529\n",
            "23         80  0.080  ...                  80       30.888031\n",
            "24         85  0.085  ...                  85       32.818533\n",
            "25         90  0.090  ...                  90       34.749035\n",
            "26         95  0.095  ...                  95       36.679537\n",
            "27        100  0.100  ...                 100       38.610039\n",
            "28        105  0.105  ...                 105       40.540541\n",
            "29        110  0.110  ...                 110       42.471042\n",
            "\n",
            "[30 rows x 14 columns]\n"
          ]
        }
      ]
    },
    {
      "cell_type": "code",
      "metadata": {
        "id": "C3lBuPBmTr4p"
      },
      "source": [
        "#separar los datos de entrada y salida\n",
        "kc = Area[\"kilometro cuadrado\"]\n",
        "mc = Area[\"milla cuadrada\"]"
      ],
      "execution_count": 51,
      "outputs": []
    },
    {
      "cell_type": "code",
      "metadata": {
        "id": "KIejOptGTr4p"
      },
      "source": [
        "#creando el modelo de entrenamiento\n",
        "modelo = tf.keras.Sequential()\n",
        "modelo.add(tf.keras.layers.Dense(units=1, input_shape=[1]))"
      ],
      "execution_count": 52,
      "outputs": []
    },
    {
      "cell_type": "code",
      "metadata": {
        "id": "WlCv_mIZTr4q"
      },
      "source": [
        "#compilar el modelo de entrenamiento\n",
        "modelo.compile(optimizer=tf.keras.optimizers.Adam(1),loss='mean_squared_error')"
      ],
      "execution_count": 53,
      "outputs": []
    },
    {
      "cell_type": "code",
      "metadata": {
        "id": "dERoc-utTr4s"
      },
      "source": [
        "#entrenar el modelo de aprendizaje\n",
        "historial = modelo.fit(kc, mc, epochs=2400, verbose=0)"
      ],
      "execution_count": 54,
      "outputs": []
    },
    {
      "cell_type": "code",
      "metadata": {
        "colab": {
          "base_uri": "https://localhost:8080/"
        },
        "id": "1qc3MwbhTr4s",
        "outputId": "27796d5c-307f-4da1-ef97-0bdccac18f07"
      },
      "source": [
        "milla = modelo.predict([25000])\n",
        "print(milla)"
      ],
      "execution_count": 55,
      "outputs": [
        {
          "output_type": "stream",
          "name": "stdout",
          "text": [
            "[[9652.502]]\n"
          ]
        }
      ]
    },
    {
      "cell_type": "markdown",
      "metadata": {
        "id": "WJDGJSwewHRh"
      },
      "source": [
        "# **USO DE TENSORFLOW PARA CONVERTIR E MESES ACUMULADOS A n MESES**"
      ]
    },
    {
      "cell_type": "code",
      "metadata": {
        "id": "UwVXJriwwHRk"
      },
      "source": [
        "#importando las librerias\n",
        "import tensorflow as tf\n",
        "import pandas as pd\n",
        "import matplotlib.pyplot as plt"
      ],
      "execution_count": 122,
      "outputs": []
    },
    {
      "cell_type": "code",
      "metadata": {
        "colab": {
          "base_uri": "https://localhost:8080/"
        },
        "id": "kAF_rVOiwHRk",
        "outputId": "d612a73d-14dd-4b54-e12d-5e7027866b50"
      },
      "source": [
        "#leer los datos de entrenamiento\n",
        "nMeses = pd.read_csv(\"/content/N Meses.csv\", sep=\";\")\n",
        "print(nMeses)"
      ],
      "execution_count": 123,
      "outputs": [
        {
          "output_type": "stream",
          "name": "stdout",
          "text": [
            "             n   acumulado\n",
            "0    18.340307  177.353579\n",
            "1    23.455414  286.805933\n",
            "2     7.377789   30.904780\n",
            "3     2.966019    5.881644\n",
            "4     1.594600    2.068675\n",
            "..         ...         ...\n",
            "145  17.313886  158.542272\n",
            "146   3.527899    7.986984\n",
            "147  11.530888   72.246138\n",
            "148  12.327423   82.146392\n",
            "149   8.782580   42.958148\n",
            "\n",
            "[150 rows x 2 columns]\n"
          ]
        }
      ]
    },
    {
      "cell_type": "code",
      "metadata": {
        "id": "Fy63xmPIwHRl"
      },
      "source": [
        "#separar los datos de entrada y salida\n",
        "n = nMeses[\"n\"]\n",
        "a = nMeses[\"acumulado\"]"
      ],
      "execution_count": 124,
      "outputs": []
    },
    {
      "cell_type": "code",
      "metadata": {
        "id": "TXvIe9uXwHRl"
      },
      "source": [
        "#creando el modelo de entrenamiento\n",
        "modelo = tf.keras.Sequential()\n",
        "modelo.add(tf.keras.layers.Dense(units=1, input_shape=[1]))"
      ],
      "execution_count": 125,
      "outputs": []
    },
    {
      "cell_type": "code",
      "metadata": {
        "id": "skNKLOQKwHRl"
      },
      "source": [
        "#compilar el modelo de entrenamiento\n",
        "modelo.compile(optimizer=tf.keras.optimizers.Adam(1),loss='mean_squared_error')"
      ],
      "execution_count": 126,
      "outputs": []
    },
    {
      "cell_type": "code",
      "metadata": {
        "id": "D_Vln11awHRm"
      },
      "source": [
        "#entrenar el modelo de aprendizaje\n",
        "historial = modelo.fit(n, a, epochs=4000, verbose=0)"
      ],
      "execution_count": 127,
      "outputs": []
    },
    {
      "cell_type": "code",
      "metadata": {
        "colab": {
          "base_uri": "https://localhost:8080/"
        },
        "id": "AnWjUCmQwHRm",
        "outputId": "d32392ca-4f5a-4fcd-f55b-e70835e7eea3"
      },
      "source": [
        "meses = modelo.predict([8])\n",
        "print(meses)"
      ],
      "execution_count": 128,
      "outputs": [
        {
          "output_type": "stream",
          "name": "stdout",
          "text": [
            "[[40.63762]]\n"
          ]
        }
      ]
    }
  ]
}