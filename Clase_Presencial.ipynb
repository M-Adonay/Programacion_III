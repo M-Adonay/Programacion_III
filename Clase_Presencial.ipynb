{
  "nbformat": 4,
  "nbformat_minor": 0,
  "metadata": {
    "colab": {
      "name": "Clase Presencial",
      "provenance": [],
      "authorship_tag": "ABX9TyNFHPYRqFDmgCYJM6ywHV2Z",
      "include_colab_link": true
    },
    "kernelspec": {
      "name": "python3",
      "display_name": "Python 3"
    },
    "language_info": {
      "name": "python"
    }
  },
  "cells": [
    {
      "cell_type": "markdown",
      "metadata": {
        "id": "view-in-github",
        "colab_type": "text"
      },
      "source": [
        "<a href=\"https://colab.research.google.com/github/M-Adonay/Programacion_III/blob/main/Clase_Presencial.ipynb\" target=\"_parent\"><img src=\"https://colab.research.google.com/assets/colab-badge.svg\" alt=\"Open In Colab\"/></a>"
      ]
    },
    {
      "cell_type": "markdown",
      "metadata": {
        "id": "CPof5JIB1Iyv"
      },
      "source": [
        "# **Clase Presencial**\n",
        "\n"
      ]
    },
    {
      "cell_type": "markdown",
      "metadata": {
        "id": "ncAyBzYi2-V7"
      },
      "source": [
        "**Conversor repaso**"
      ]
    },
    {
      "cell_type": "code",
      "metadata": {
        "id": "ztYlZNGT1HJm"
      },
      "source": [
        "#Conversor\n",
        "etiquetas = [\n",
        "             [],#0\n",
        "             [0,\"1. Dolar\",\"2. Peso Mexicano\",\"3. Quetzles\",\"4. Colon SV\",\"5. Lempiras\",\"6. Cordobas\",\"7. Colon CR\"],#monedas\n",
        "             [0,\"1. Metros\",\"2. CM\",\"3. Pulgadas\",\"4. Pies\",\"5. Varas\",\"6. Yardas\",\"7. KM\",\"8. Millas\"],#Longitud\n",
        "             [0,\"1. Libras\",\"2. Gramos\",\"3. Kilogramos\",\"4. Onzas\",\"5. Toneladas Corta\"],#Masa\n",
        "             [0,\"1. MB\",\"2. Bits\",\"3. Byte\",\"4. KB\",\"5. GB\",\"6. TB\"]#Almacenamiento\n",
        "]\n",
        "valores = [\n",
        "           [],#\n",
        "           [0, 1, 19.91, 7.74, 8.75, 23.96, 35.11, 624.24],\n",
        "           [0, 1, 100, 39, 37, 3.28, 1.1963081929167, 1.09, 0.001, 0.00053],\n",
        "           [0, 1, 453.59, 0.45, 16, 0.0005],\n",
        "           [0, 1, 8388608, 1048576, 1024, 0.0009765625, 0.0000000953674316]\n",
        "]\n",
        "def conversores(opcion,de,a,cantidad):\n",
        "  return valores[opcion][a]/valores[opcion][de]* cantidad\n",
        "print(\"**Menu Conversores**\")\n",
        "print(\" 1.Monedas,\\n 2.Longitud \\n 3.Masa \\n4.Almacenamiento\")\n",
        "opcion = int(input(\"CONVERSOR: \"))\n",
        "\n",
        "print(etiquetas[opcion])\n",
        "de = int(input(\"DE: \"))\n",
        "a = int(input(\"A: \"))\n",
        "cantidad = float(input(\"cantidad:\"))\n",
        "\n",
        "print(etiquetas[de],\"a\",etiquetas[opcion][a],\"es:\", conversores(opcion,de,a,cantidad))"
      ],
      "execution_count": null,
      "outputs": []
    },
    {
      "cell_type": "markdown",
      "metadata": {
        "id": "0OqX_eqDFD6r"
      },
      "source": [
        "**Meses acumulados**"
      ]
    },
    {
      "cell_type": "code",
      "metadata": {
        "colab": {
          "base_uri": "https://localhost:8080/"
        },
        "id": "uVC0wdKFFLfP",
        "outputId": "1206d878-7955-485f-b765-b5b55de4229b"
      },
      "source": [
        "#meses\n",
        "nmeses = int(input(\"Meses: \"))\n",
        "i = 0\n",
        "acumulacion = 0\n",
        "while( i<= nmeses):\n",
        "   acumulacion +=i\n",
        "   i+=1\n",
        "print(\"Meses: \",nmeses,\"Acumulado: \",acumulacion)"
      ],
      "execution_count": 19,
      "outputs": [
        {
          "output_type": "stream",
          "name": "stdout",
          "text": [
            "Meses: 10\n",
            "Meses:  10 Acumulado:  55\n"
          ]
        }
      ]
    }
  ]
}