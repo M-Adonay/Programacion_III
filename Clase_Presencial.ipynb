{
  "nbformat": 4,
  "nbformat_minor": 0,
  "metadata": {
    "colab": {
      "name": "Clase Presencial",
      "provenance": [],
      "authorship_tag": "ABX9TyOpRheVUTD/a1uhpYtZcVXq",
      "include_colab_link": true
    },
    "kernelspec": {
      "name": "python3",
      "display_name": "Python 3"
    },
    "language_info": {
      "name": "python"
    }
  },
  "cells": [
    {
      "cell_type": "markdown",
      "metadata": {
        "id": "view-in-github",
        "colab_type": "text"
      },
      "source": [
        "<a href=\"https://colab.research.google.com/github/M-Adonay/Programacion_III/blob/main/Clase_Presencial.ipynb\" target=\"_parent\"><img src=\"https://colab.research.google.com/assets/colab-badge.svg\" alt=\"Open In Colab\"/></a>"
      ]
    },
    {
      "cell_type": "markdown",
      "metadata": {
        "id": "CPof5JIB1Iyv"
      },
      "source": [
        "# **Clase Presencial**\n",
        "\n"
      ]
    },
    {
      "cell_type": "markdown",
      "metadata": {
        "id": "ncAyBzYi2-V7"
      },
      "source": [
        "**Conversor repaso**"
      ]
    },
    {
      "cell_type": "code",
      "metadata": {
        "id": "ztYlZNGT1HJm"
      },
      "source": [
        "#Conversor\n",
        "etiquetas = [\n",
        "             [],#0\n",
        "             [0,\"1. Dolar\",\"2. Peso Mexicano\",\"3. Quetzles\",\"4. Colon SV\",\"5. Lempiras\",\"6. Cordobas\",\"7. Colon CR\"],#monedas\n",
        "             [0,\"1. Metros\",\"2. CM\",\"3. Pulgadas\",\"4. Pies\",\"5. Varas\",\"6. Yardas\",\"7. KM\",\"8. Millas\"],#Longitud\n",
        "             [0,\"1. Libras\",\"2. Gramos\",\"3. Kilogramos\",\"4. Onzas\",\"5. Toneladas Corta\"],#Masa\n",
        "             [0,\"1. MB\",\"2. Bits\",\"3. Byte\",\"4. KB\",\"5. GB\",\"6. TB\"]#Almacenamiento\n",
        "]\n",
        "valores = [\n",
        "           [],#\n",
        "           [0, 1, 19.91, 7.74, 8.75, 23.96, 35.11, 624.24],\n",
        "           [0, 1, 100, 39, 37, 3.28, 1.1963081929167, 1.09, 0.001, 0.00053],\n",
        "           [0, 1, 453.59, 0.45, 16, 0.0005],\n",
        "           [0, 1, 8388608, 1048576, 1024, 0.0009765625, 0.0000000953674316]\n",
        "]\n",
        "def conversores(opcion,de,a,cantidad):\n",
        "  return valores[opcion][a]/valores[opcion][de]* cantidad\n",
        "print(\"**Menu Conversores**\")\n",
        "print(\" 1.Monedas,\\n 2.Longitud \\n 3.Masa \\n4.Almacenamiento\")\n",
        "opcion = int(input(\"CONVERSOR: \"))\n",
        "\n",
        "print(etiquetas[opcion])\n",
        "de = int(input(\"DE: \"))\n",
        "a = int(input(\"A: \"))\n",
        "cantidad = float(input(\"cantidad:\"))\n",
        "\n",
        "print(etiquetas[de],\"a\",etiquetas[opcion][a],\"es:\", conversores(opcion,de,a,cantidad))"
      ],
      "execution_count": null,
      "outputs": []
    },
    {
      "cell_type": "markdown",
      "metadata": {
        "id": "0OqX_eqDFD6r"
      },
      "source": [
        "**Meses acumulados**"
      ]
    },
    {
      "cell_type": "code",
      "metadata": {
        "colab": {
          "base_uri": "https://localhost:8080/"
        },
        "id": "uVC0wdKFFLfP",
        "outputId": "1206d878-7955-485f-b765-b5b55de4229b"
      },
      "source": [
        "#meses\n",
        "nmeses = int(input(\"Meses: \"))\n",
        "i = 0\n",
        "acumulacion = 0\n",
        "while( i<= nmeses):\n",
        "   acumulacion +=i\n",
        "   i+=1\n",
        "print(\"Meses: \",nmeses,\"Acumulado: \",acumulacion)"
      ],
      "execution_count": null,
      "outputs": [
        {
          "output_type": "stream",
          "name": "stdout",
          "text": [
            "Meses: 10\n",
            "Meses:  10 Acumulado:  55\n"
          ]
        }
      ]
    },
    {
      "cell_type": "markdown",
      "metadata": {
        "id": "HRAmx9is-fQR"
      },
      "source": [
        "# **Clase 13/09/2021**"
      ]
    },
    {
      "cell_type": "markdown",
      "metadata": {
        "id": "LjnVcxNk-lye"
      },
      "source": [
        "Panda Ejemplo"
      ]
    },
    {
      "cell_type": "code",
      "metadata": {
        "id": "-1dTxrq7-pSV"
      },
      "source": [
        "#Pandas\n",
        "import pandas as pd\n",
        "import matplotlib.pyplot as plt"
      ],
      "execution_count": null,
      "outputs": []
    },
    {
      "cell_type": "code",
      "metadata": {
        "id": "u8sJO93o--7r",
        "colab": {
          "base_uri": "https://localhost:8080/"
        },
        "outputId": "90c4b6a3-98ef-483c-c7ca-433bda344aff"
      },
      "source": [
        "#creando una matrix con pandas\n",
        "lenguajesProgra = pd.Series([\"VB\", \"JAVA\",\"Python\", \"HTML\", \"CSS\", \"JS\", \"C#\", \"PHP\", \"XML\"]\n",
        "                            ,index=[1,2,3,4,4,4,5,4,6])\n",
        "#(lenguajesProgra, lenguajesProgra[4])\n",
        "\n",
        "misLenguajes = {\n",
        "    1:\"VB\",\n",
        "    2:\"jAVA\",\n",
        "    3:\"Python\",\n",
        "    4:\"HTML\",\n",
        "    5:\"CSS\",\n",
        "    6:\"JS\",\n",
        "    0:\"C#\",\n",
        "    8:\"PHP\",\n",
        "    10:\"XML\"\n",
        "}\n",
        "diccionarioLenguajes=pd.Series(misLenguajes)\n",
        "print(diccionarioLenguajes, diccionarioLenguajes[1])"
      ],
      "execution_count": null,
      "outputs": [
        {
          "output_type": "stream",
          "name": "stdout",
          "text": [
            "1         VB\n",
            "2       jAVA\n",
            "3     Python\n",
            "4       HTML\n",
            "5        CSS\n",
            "6         JS\n",
            "0         C#\n",
            "8        PHP\n",
            "10       XML\n",
            "dtype: object VB\n"
          ]
        }
      ]
    },
    {
      "cell_type": "code",
      "metadata": {
        "id": "LhpwvEkZGjp4",
        "colab": {
          "base_uri": "https://localhost:8080/",
          "height": 503
        },
        "outputId": "416a6936-5068-4823-c2b7-d697338885cb"
      },
      "source": [
        "#Leer archivo de notas(Excel) con pandas\n",
        "archivo = pd.read_csv(\"/content/Notas.csv\",sep=\";\",encoding=\"utf-8\")\n",
        "#print(archivo, archivo[\"notas\"])\n",
        "\n",
        "procesar= pd.crosstab(index=archivo[\"notas\"],columns=\"cant_veces_repite\")\n",
        "#print(procesar)\n",
        "\n",
        "agrupando = archivo.groupby([\"notas\"]).agg({\"sum\"})\n",
        "print(agrupando)\n",
        "\n",
        "plt.pie(procesar, labels=procesar.index)\n",
        "plt.xlabel(\"Notas por estudiante\")\n",
        "plt.show()"
      ],
      "execution_count": null,
      "outputs": [
        {
          "output_type": "stream",
          "name": "stdout",
          "text": [
            "                             alumnos\n",
            "                                 sum\n",
            "notas                               \n",
            "1                   Mauricio Vazques\n",
            "2                         Jose Perez\n",
            "3                         Juan Perez\n",
            "4      Luis HernandesAlejandro vigil\n",
            "6                  Mauricio Espinoza\n",
            "7                       michell Cruz\n",
            "8             Jose ChavezMario Claro\n",
            "9                       Josue Flores\n"
          ]
        },
        {
          "output_type": "stream",
          "name": "stderr",
          "text": [
            "/usr/local/lib/python3.7/dist-packages/ipykernel_launcher.py:11: MatplotlibDeprecationWarning: Non-1D inputs to pie() are currently squeeze()d, but this behavior is deprecated since 3.1 and will be removed in 3.3; pass a 1D array instead.\n",
            "  # This is added back by InteractiveShellApp.init_path()\n"
          ]
        },
        {
          "output_type": "display_data",
          "data": {
            "image/png": "[encoded data removed]",
            "text/plain": [
              "<Figure size 432x288 with 1 Axes>"
            ]
          },
          "metadata": {}
        }
      ]
    },
    {
      "cell_type": "markdown",
      "metadata": {
        "id": "bqWjFpfLIupj"
      },
      "source": [
        "# **20/09/2021**"
      ]
    },
    {
      "cell_type": "code",
      "metadata": {
        "id": "Ks5nf6OkI3f5",
        "colab": {
          "base_uri": "https://localhost:8080/",
          "height": 357
        },
        "outputId": "b96c052e-f756-4189-c0a3-96376a55e91b"
      },
      "source": [
        "#PANDA\n",
        "Usuarios = pd.read_csv(\"/content/Usuarios.csv\",sep=\";\",encoding=\"latin-1\")\n",
        "#print(Usuarios)\n",
        "\n",
        "Peliculas = pd.read_csv(\"/content/Peliculas.csv\",sep=\";\",encoding=\"utf-8\")\n",
        "#print(Peliculas)\n",
        "\n",
        "usuariosPeliculas = pd.read_csv(\"/content/usuariosPeliculas.csv\", sep=\";\")\n",
        "#print(usuariosPeliculas)\n",
        "\n",
        "UnionUsuarioPelicula = pd.merge( pd.merge(Usuarios, usuariosPeliculas),Peliculas, on=\"isPelicula\")\n",
        "print(UnionUsuarioPelicula[nombre], UnionUsuarioPelicula[\"titulo\"],UnionUsuarioPelicula[\"aceptacion\"])"
      ],
      "execution_count": null,
      "outputs": [
        {
          "output_type": "error",
          "ename": "KeyError",
          "evalue": "ignored",
          "traceback": [
            "\u001b[0;31m---------------------------------------------------------------------------\u001b[0m",
            "\u001b[0;31mKeyError\u001b[0m                                  Traceback (most recent call last)",
            "\u001b[0;32m<ipython-input-23-bca84ad44ae5>\u001b[0m in \u001b[0;36m<module>\u001b[0;34m()\u001b[0m\n\u001b[1;32m      9\u001b[0m \u001b[0;31m#print(usuariosPeliculas)\u001b[0m\u001b[0;34m\u001b[0m\u001b[0;34m\u001b[0m\u001b[0;34m\u001b[0m\u001b[0m\n\u001b[1;32m     10\u001b[0m \u001b[0;34m\u001b[0m\u001b[0m\n\u001b[0;32m---> 11\u001b[0;31m \u001b[0mUnionUsuarioPelicula\u001b[0m \u001b[0;34m=\u001b[0m \u001b[0mpd\u001b[0m\u001b[0;34m.\u001b[0m\u001b[0mmerge\u001b[0m\u001b[0;34m(\u001b[0m \u001b[0mpd\u001b[0m\u001b[0;34m.\u001b[0m\u001b[0mmerge\u001b[0m\u001b[0;34m(\u001b[0m\u001b[0mUsuarios\u001b[0m\u001b[0;34m,\u001b[0m \u001b[0musuariosPeliculas\u001b[0m\u001b[0;34m)\u001b[0m\u001b[0;34m,\u001b[0m\u001b[0mPeliculas\u001b[0m\u001b[0;34m,\u001b[0m \u001b[0mon\u001b[0m\u001b[0;34m=\u001b[0m\u001b[0;34m\"isPelicula\"\u001b[0m\u001b[0;34m)\u001b[0m\u001b[0;34m\u001b[0m\u001b[0;34m\u001b[0m\u001b[0m\n\u001b[0m\u001b[1;32m     12\u001b[0m \u001b[0mprint\u001b[0m\u001b[0;34m(\u001b[0m\u001b[0mUnionUsuarioPelicula\u001b[0m\u001b[0;34m[\u001b[0m\u001b[0mnombre\u001b[0m\u001b[0;34m]\u001b[0m\u001b[0;34m,\u001b[0m \u001b[0mUnionUsuarioPelicula\u001b[0m\u001b[0;34m[\u001b[0m\u001b[0;34m\"titulo\"\u001b[0m\u001b[0;34m]\u001b[0m\u001b[0;34m,\u001b[0m\u001b[0mUnionUsuarioPelicula\u001b[0m\u001b[0;34m[\u001b[0m\u001b[0;34m\"aceptacion\"\u001b[0m\u001b[0;34m]\u001b[0m\u001b[0;34m)\u001b[0m\u001b[0;34m\u001b[0m\u001b[0;34m\u001b[0m\u001b[0m\n",
            "\u001b[0;32m/usr/local/lib/python3.7/dist-packages/pandas/core/reshape/merge.py\u001b[0m in \u001b[0;36mmerge\u001b[0;34m(left, right, how, on, left_on, right_on, left_index, right_index, sort, suffixes, copy, indicator, validate)\u001b[0m\n\u001b[1;32m     85\u001b[0m         \u001b[0mcopy\u001b[0m\u001b[0;34m=\u001b[0m\u001b[0mcopy\u001b[0m\u001b[0;34m,\u001b[0m\u001b[0;34m\u001b[0m\u001b[0;34m\u001b[0m\u001b[0m\n\u001b[1;32m     86\u001b[0m         \u001b[0mindicator\u001b[0m\u001b[0;34m=\u001b[0m\u001b[0mindicator\u001b[0m\u001b[0;34m,\u001b[0m\u001b[0;34m\u001b[0m\u001b[0;34m\u001b[0m\u001b[0m\n\u001b[0;32m---> 87\u001b[0;31m         \u001b[0mvalidate\u001b[0m\u001b[0;34m=\u001b[0m\u001b[0mvalidate\u001b[0m\u001b[0;34m,\u001b[0m\u001b[0;34m\u001b[0m\u001b[0;34m\u001b[0m\u001b[0m\n\u001b[0m\u001b[1;32m     88\u001b[0m     )\n\u001b[1;32m     89\u001b[0m     \u001b[0;32mreturn\u001b[0m \u001b[0mop\u001b[0m\u001b[0;34m.\u001b[0m\u001b[0mget_result\u001b[0m\u001b[0;34m(\u001b[0m\u001b[0;34m)\u001b[0m\u001b[0;34m\u001b[0m\u001b[0;34m\u001b[0m\u001b[0m\n",
            "\u001b[0;32m/usr/local/lib/python3.7/dist-packages/pandas/core/reshape/merge.py\u001b[0m in \u001b[0;36m__init__\u001b[0;34m(self, left, right, how, on, left_on, right_on, axis, left_index, right_index, sort, suffixes, copy, indicator, validate)\u001b[0m\n\u001b[1;32m    650\u001b[0m             \u001b[0mself\u001b[0m\u001b[0;34m.\u001b[0m\u001b[0mright_join_keys\u001b[0m\u001b[0;34m,\u001b[0m\u001b[0;34m\u001b[0m\u001b[0;34m\u001b[0m\u001b[0m\n\u001b[1;32m    651\u001b[0m             \u001b[0mself\u001b[0m\u001b[0;34m.\u001b[0m\u001b[0mjoin_names\u001b[0m\u001b[0;34m,\u001b[0m\u001b[0;34m\u001b[0m\u001b[0;34m\u001b[0m\u001b[0m\n\u001b[0;32m--> 652\u001b[0;31m         ) = self._get_merge_keys()\n\u001b[0m\u001b[1;32m    653\u001b[0m \u001b[0;34m\u001b[0m\u001b[0m\n\u001b[1;32m    654\u001b[0m         \u001b[0;31m# validate the merge keys dtypes. We may need to coerce\u001b[0m\u001b[0;34m\u001b[0m\u001b[0;34m\u001b[0m\u001b[0;34m\u001b[0m\u001b[0m\n",
            "\u001b[0;32m/usr/local/lib/python3.7/dist-packages/pandas/core/reshape/merge.py\u001b[0m in \u001b[0;36m_get_merge_keys\u001b[0;34m(self)\u001b[0m\n\u001b[1;32m   1016\u001b[0m                         \u001b[0mright_keys\u001b[0m\u001b[0;34m.\u001b[0m\u001b[0mappend\u001b[0m\u001b[0;34m(\u001b[0m\u001b[0mrk\u001b[0m\u001b[0;34m)\u001b[0m\u001b[0;34m\u001b[0m\u001b[0;34m\u001b[0m\u001b[0m\n\u001b[1;32m   1017\u001b[0m                     \u001b[0;32mif\u001b[0m \u001b[0mlk\u001b[0m \u001b[0;32mis\u001b[0m \u001b[0;32mnot\u001b[0m \u001b[0;32mNone\u001b[0m\u001b[0;34m:\u001b[0m\u001b[0;34m\u001b[0m\u001b[0;34m\u001b[0m\u001b[0m\n\u001b[0;32m-> 1018\u001b[0;31m                         \u001b[0mleft_keys\u001b[0m\u001b[0;34m.\u001b[0m\u001b[0mappend\u001b[0m\u001b[0;34m(\u001b[0m\u001b[0mleft\u001b[0m\u001b[0;34m.\u001b[0m\u001b[0m_get_label_or_level_values\u001b[0m\u001b[0;34m(\u001b[0m\u001b[0mlk\u001b[0m\u001b[0;34m)\u001b[0m\u001b[0;34m)\u001b[0m\u001b[0;34m\u001b[0m\u001b[0;34m\u001b[0m\u001b[0m\n\u001b[0m\u001b[1;32m   1019\u001b[0m                         \u001b[0mjoin_names\u001b[0m\u001b[0;34m.\u001b[0m\u001b[0mappend\u001b[0m\u001b[0;34m(\u001b[0m\u001b[0mlk\u001b[0m\u001b[0;34m)\u001b[0m\u001b[0;34m\u001b[0m\u001b[0;34m\u001b[0m\u001b[0m\n\u001b[1;32m   1020\u001b[0m                     \u001b[0;32melse\u001b[0m\u001b[0;34m:\u001b[0m\u001b[0;34m\u001b[0m\u001b[0;34m\u001b[0m\u001b[0m\n",
            "\u001b[0;32m/usr/local/lib/python3.7/dist-packages/pandas/core/generic.py\u001b[0m in \u001b[0;36m_get_label_or_level_values\u001b[0;34m(self, key, axis)\u001b[0m\n\u001b[1;32m   1561\u001b[0m             \u001b[0mvalues\u001b[0m \u001b[0;34m=\u001b[0m \u001b[0mself\u001b[0m\u001b[0;34m.\u001b[0m\u001b[0maxes\u001b[0m\u001b[0;34m[\u001b[0m\u001b[0maxis\u001b[0m\u001b[0;34m]\u001b[0m\u001b[0;34m.\u001b[0m\u001b[0mget_level_values\u001b[0m\u001b[0;34m(\u001b[0m\u001b[0mkey\u001b[0m\u001b[0;34m)\u001b[0m\u001b[0;34m.\u001b[0m\u001b[0m_values\u001b[0m\u001b[0;34m\u001b[0m\u001b[0;34m\u001b[0m\u001b[0m\n\u001b[1;32m   1562\u001b[0m         \u001b[0;32melse\u001b[0m\u001b[0;34m:\u001b[0m\u001b[0;34m\u001b[0m\u001b[0;34m\u001b[0m\u001b[0m\n\u001b[0;32m-> 1563\u001b[0;31m             \u001b[0;32mraise\u001b[0m \u001b[0mKeyError\u001b[0m\u001b[0;34m(\u001b[0m\u001b[0mkey\u001b[0m\u001b[0;34m)\u001b[0m\u001b[0;34m\u001b[0m\u001b[0;34m\u001b[0m\u001b[0m\n\u001b[0m\u001b[1;32m   1564\u001b[0m \u001b[0;34m\u001b[0m\u001b[0m\n\u001b[1;32m   1565\u001b[0m         \u001b[0;31m# Check for duplicates\u001b[0m\u001b[0;34m\u001b[0m\u001b[0;34m\u001b[0m\u001b[0;34m\u001b[0m\u001b[0m\n",
            "\u001b[0;31mKeyError\u001b[0m: 'isPelicula'"
          ]
        }
      ]
    },
    {
      "cell_type": "markdown",
      "metadata": {
        "id": "suuZFRboIxHe"
      },
      "source": [
        "ENTRENANDO UNA IA BASICA QUE APRENDA A CONVERTIR CELSIUS A FAHRENHEIT"
      ]
    },
    {
      "cell_type": "code",
      "metadata": {
        "id": "qO8MFiumJNbr"
      },
      "source": [
        "#Importar las librerias\n",
        "import tensorflow as tf\n",
        "import pandas as pd\n",
        "import matplotlib.pyplot as plt\n",
        "import seaborn as sns"
      ],
      "execution_count": null,
      "outputs": []
    },
    {
      "cell_type": "code",
      "metadata": {
        "id": "woVUWZt7KJ7s",
        "colab": {
          "base_uri": "https://localhost:8080/",
          "height": 525
        },
        "outputId": "2ef23177-c522-4593-c54b-98de3bebd2f3"
      },
      "source": [
        "#d\n",
        "temperaturas = pd.read_csv(\"/content/Datos.csv\",sep=\";\")\n",
        "print(temperaturas)\n",
        "\n",
        "sns.scatterplot(temperaturas[\"celsius\"], temperaturas[\"fahrenheit\"])\n",
        "plt.show()"
      ],
      "execution_count": null,
      "outputs": [
        {
          "output_type": "stream",
          "name": "stdout",
          "text": [
            "   celsius  fahrenheit\n",
            "0      -40       -40.0\n",
            "1      -35       -31.0\n",
            "2      -30       -22.0\n",
            "3      -25       -13.0\n",
            "4      -20        -4.0\n",
            "5      -15         5.0\n",
            "6      -10        14.0\n",
            "7       -8        17.6\n",
            "8       -5        23.0\n",
            "9       -2        28.4\n"
          ]
        },
        {
          "output_type": "stream",
          "name": "stderr",
          "text": [
            "/usr/local/lib/python3.7/dist-packages/seaborn/_decorators.py:43: FutureWarning: Pass the following variables as keyword args: x, y. From version 0.12, the only valid positional argument will be `data`, and passing other arguments without an explicit keyword will result in an error or misinterpretation.\n",
            "  FutureWarning\n"
          ]
        },
        {
          "output_type": "display_data",
          "data": {
            "image/png": "[encoded data removed]",
            "text/plain": [
              "<Figure size 432x288 with 1 Axes>"
            ]
          },
          "metadata": {
            "needs_background": "light"
          }
        }
      ]
    },
    {
      "cell_type": "code",
      "metadata": {
        "id": "5bxjud0zLMMv"
      },
      "source": [
        "#datos de entrenamiento\n",
        "celsius = temperaturas[\"celsius\"]\n",
        "fahrenheit = temperaturas[\"fahrenheit\"]"
      ],
      "execution_count": null,
      "outputs": []
    },
    {
      "cell_type": "code",
      "metadata": {
        "id": "Skq2siRcMCwx"
      },
      "source": [
        "#modelo de entrenamiento\n",
        "modelo = tf.keras.Sequential()\n",
        "modelo.add(tf.keras.layers.Dense(units=1, input_shape=[1]))"
      ],
      "execution_count": null,
      "outputs": []
    },
    {
      "cell_type": "code",
      "metadata": {
        "id": "ICixCJC_NB-E"
      },
      "source": [
        "#copilar el modelo\n",
        "modelo.compile(optimizer=tf.keras.optimizers.Adam(1), loss='mean_squared_error')"
      ],
      "execution_count": null,
      "outputs": []
    },
    {
      "cell_type": "code",
      "metadata": {
        "id": "-QtlKX8pN4TA",
        "colab": {
          "base_uri": "https://localhost:8080/"
        },
        "outputId": "bc38ab3c-b912-48d0-a482-fdb346ddd1cd"
      },
      "source": [
        "#entrenamiento de nuestro modelo de Aprendizaje\n",
        "historial = modelo.fit(celsius, fahrenheit, epochs=300)"
      ],
      "execution_count": null,
      "outputs": [
        {
          "output_type": "stream",
          "name": "stdout",
          "text": [
            "Epoch 1/300\n",
            "1/1 [==============================] - 0s 5ms/step - loss: 8.0613e-04\n",
            "Epoch 2/300\n",
            "1/1 [==============================] - 0s 5ms/step - loss: 8.1763e-04\n",
            "Epoch 3/300\n",
            "1/1 [==============================] - 0s 5ms/step - loss: 6.8400e-04\n",
            "Epoch 4/300\n",
            "1/1 [==============================] - 0s 4ms/step - loss: 4.6172e-04\n",
            "Epoch 5/300\n",
            "1/1 [==============================] - 0s 4ms/step - loss: 4.8436e-04\n",
            "Epoch 6/300\n",
            "1/1 [==============================] - 0s 4ms/step - loss: 3.6299e-04\n",
            "Epoch 7/300\n",
            "1/1 [==============================] - 0s 4ms/step - loss: 2.2737e-04\n",
            "Epoch 8/300\n",
            "1/1 [==============================] - 0s 4ms/step - loss: 2.5893e-04\n",
            "Epoch 9/300\n",
            "1/1 [==============================] - 0s 4ms/step - loss: 1.5909e-04\n",
            "Epoch 10/300\n",
            "1/1 [==============================] - 0s 5ms/step - loss: 9.2895e-05\n",
            "Epoch 11/300\n",
            "1/1 [==============================] - 0s 3ms/step - loss: 1.2607e-04\n",
            "Epoch 12/300\n",
            "1/1 [==============================] - 0s 4ms/step - loss: 5.0370e-05\n",
            "Epoch 13/300\n",
            "1/1 [==============================] - 0s 3ms/step - loss: 3.3528e-05\n",
            "Epoch 14/300\n",
            "1/1 [==============================] - 0s 3ms/step - loss: 6.0625e-05\n",
            "Epoch 15/300\n",
            "1/1 [==============================] - 0s 5ms/step - loss: 7.9534e-06\n",
            "Epoch 16/300\n",
            "1/1 [==============================] - 0s 4ms/step - loss: 2.0700e-05\n",
            "Epoch 17/300\n",
            "1/1 [==============================] - 0s 4ms/step - loss: 3.6800e-05\n",
            "Epoch 18/300\n",
            "1/1 [==============================] - 0s 5ms/step - loss: 4.2187e-06\n",
            "Epoch 19/300\n",
            "1/1 [==============================] - 0s 5ms/step - loss: 2.9601e-05\n",
            "Epoch 20/300\n",
            "1/1 [==============================] - 0s 5ms/step - loss: 3.3630e-05\n",
            "Epoch 21/300\n",
            "1/1 [==============================] - 0s 4ms/step - loss: 1.7242e-05\n",
            "Epoch 22/300\n",
            "1/1 [==============================] - 0s 4ms/step - loss: 4.2776e-05\n",
            "Epoch 23/300\n",
            "1/1 [==============================] - 0s 7ms/step - loss: 3.7030e-05\n",
            "Epoch 24/300\n",
            "1/1 [==============================] - 0s 4ms/step - loss: 3.2428e-05\n",
            "Epoch 25/300\n",
            "1/1 [==============================] - 0s 4ms/step - loss: 5.0622e-05\n",
            "Epoch 26/300\n",
            "1/1 [==============================] - 0s 4ms/step - loss: 3.9549e-05\n",
            "Epoch 27/300\n",
            "1/1 [==============================] - 0s 5ms/step - loss: 4.2106e-05\n",
            "Epoch 28/300\n",
            "1/1 [==============================] - 0s 5ms/step - loss: 5.0292e-05\n",
            "Epoch 29/300\n",
            "1/1 [==============================] - 0s 6ms/step - loss: 3.8575e-05\n",
            "Epoch 30/300\n",
            "1/1 [==============================] - 0s 5ms/step - loss: 4.3899e-05\n",
            "Epoch 31/300\n",
            "1/1 [==============================] - 0s 5ms/step - loss: 4.3179e-05\n",
            "Epoch 32/300\n",
            "1/1 [==============================] - 0s 4ms/step - loss: 3.4228e-05\n",
            "Epoch 33/300\n",
            "1/1 [==============================] - 0s 5ms/step - loss: 3.8783e-05\n",
            "Epoch 34/300\n",
            "1/1 [==============================] - 0s 8ms/step - loss: 3.2610e-05\n",
            "Epoch 35/300\n",
            "1/1 [==============================] - 0s 4ms/step - loss: 2.7779e-05\n",
            "Epoch 36/300\n",
            "1/1 [==============================] - 0s 5ms/step - loss: 2.9580e-05\n",
            "Epoch 37/300\n",
            "1/1 [==============================] - 0s 5ms/step - loss: 2.1920e-05\n",
            "Epoch 38/300\n",
            "1/1 [==============================] - 0s 4ms/step - loss: 2.0570e-05\n",
            "Epoch 39/300\n",
            "1/1 [==============================] - 0s 3ms/step - loss: 1.9333e-05\n",
            "Epoch 40/300\n",
            "1/1 [==============================] - 0s 6ms/step - loss: 1.3251e-05\n",
            "Epoch 41/300\n",
            "1/1 [==============================] - 0s 4ms/step - loss: 1.3699e-05\n",
            "Epoch 42/300\n",
            "1/1 [==============================] - 0s 4ms/step - loss: 1.0545e-05\n",
            "Epoch 43/300\n",
            "1/1 [==============================] - 0s 4ms/step - loss: 7.3549e-06\n",
            "Epoch 44/300\n",
            "1/1 [==============================] - 0s 4ms/step - loss: 7.9116e-06\n",
            "Epoch 45/300\n",
            "1/1 [==============================] - 0s 4ms/step - loss: 4.4980e-06\n",
            "Epoch 46/300\n",
            "1/1 [==============================] - 0s 5ms/step - loss: 3.8982e-06\n",
            "Epoch 47/300\n",
            "1/1 [==============================] - 0s 4ms/step - loss: 3.6651e-06\n",
            "Epoch 48/300\n",
            "1/1 [==============================] - 0s 4ms/step - loss: 1.3566e-06\n",
            "Epoch 49/300\n",
            "1/1 [==============================] - 0s 3ms/step - loss: 2.0720e-06\n",
            "Epoch 50/300\n",
            "1/1 [==============================] - 0s 4ms/step - loss: 1.1119e-06\n",
            "Epoch 51/300\n",
            "1/1 [==============================] - 0s 4ms/step - loss: 3.8046e-07\n",
            "Epoch 52/300\n",
            "1/1 [==============================] - 0s 4ms/step - loss: 1.1434e-06\n",
            "Epoch 53/300\n",
            "1/1 [==============================] - 0s 3ms/step - loss: 1.1122e-07\n",
            "Epoch 54/300\n",
            "1/1 [==============================] - 0s 3ms/step - loss: 5.2085e-07\n",
            "Epoch 55/300\n",
            "1/1 [==============================] - 0s 4ms/step - loss: 6.9787e-07\n",
            "Epoch 56/300\n",
            "1/1 [==============================] - 0s 4ms/step - loss: 1.8498e-07\n",
            "Epoch 57/300\n",
            "1/1 [==============================] - 0s 3ms/step - loss: 8.9255e-07\n",
            "Epoch 58/300\n",
            "1/1 [==============================] - 0s 5ms/step - loss: 5.9887e-07\n",
            "Epoch 59/300\n",
            "1/1 [==============================] - 0s 4ms/step - loss: 6.9226e-07\n",
            "Epoch 60/300\n",
            "1/1 [==============================] - 0s 4ms/step - loss: 1.0752e-06\n",
            "Epoch 61/300\n",
            "1/1 [==============================] - 0s 4ms/step - loss: 7.2486e-07\n",
            "Epoch 62/300\n",
            "1/1 [==============================] - 0s 4ms/step - loss: 1.0962e-06\n",
            "Epoch 63/300\n",
            "1/1 [==============================] - 0s 4ms/step - loss: 1.0252e-06\n",
            "Epoch 64/300\n",
            "1/1 [==============================] - 0s 4ms/step - loss: 9.1739e-07\n",
            "Epoch 65/300\n",
            "1/1 [==============================] - 0s 4ms/step - loss: 1.1598e-06\n",
            "Epoch 66/300\n",
            "1/1 [==============================] - 0s 4ms/step - loss: 8.8830e-07\n",
            "Epoch 67/300\n",
            "1/1 [==============================] - 0s 7ms/step - loss: 9.8890e-07\n",
            "Epoch 68/300\n",
            "1/1 [==============================] - 0s 4ms/step - loss: 9.4341e-07\n",
            "Epoch 69/300\n",
            "1/1 [==============================] - 0s 4ms/step - loss: 7.6044e-07\n",
            "Epoch 70/300\n",
            "1/1 [==============================] - 0s 6ms/step - loss: 8.5508e-07\n",
            "Epoch 71/300\n",
            "1/1 [==============================] - 0s 5ms/step - loss: 6.4980e-07\n",
            "Epoch 72/300\n",
            "1/1 [==============================] - 0s 4ms/step - loss: 6.2371e-07\n",
            "Epoch 73/300\n",
            "1/1 [==============================] - 0s 5ms/step - loss: 5.8289e-07\n",
            "Epoch 74/300\n",
            "1/1 [==============================] - 0s 3ms/step - loss: 4.1993e-07\n",
            "Epoch 75/300\n",
            "1/1 [==============================] - 0s 3ms/step - loss: 4.4736e-07\n",
            "Epoch 76/300\n",
            "1/1 [==============================] - 0s 4ms/step - loss: 3.1411e-07\n",
            "Epoch 77/300\n",
            "1/1 [==============================] - 0s 4ms/step - loss: 2.7056e-07\n",
            "Epoch 78/300\n",
            "1/1 [==============================] - 0s 4ms/step - loss: 2.4848e-07\n",
            "Epoch 79/300\n",
            "1/1 [==============================] - 0s 4ms/step - loss: 1.4394e-07\n",
            "Epoch 80/300\n",
            "1/1 [==============================] - 0s 5ms/step - loss: 1.6177e-07\n",
            "Epoch 81/300\n",
            "1/1 [==============================] - 0s 4ms/step - loss: 9.2561e-08\n",
            "Epoch 82/300\n",
            "1/1 [==============================] - 0s 5ms/step - loss: 7.1210e-08\n",
            "Epoch 83/300\n",
            "1/1 [==============================] - 0s 3ms/step - loss: 7.2007e-08\n",
            "Epoch 84/300\n",
            "1/1 [==============================] - 0s 5ms/step - loss: 1.9433e-08\n",
            "Epoch 85/300\n",
            "1/1 [==============================] - 0s 3ms/step - loss: 4.3412e-08\n",
            "Epoch 86/300\n",
            "1/1 [==============================] - 0s 4ms/step - loss: 1.2925e-08\n",
            "Epoch 87/300\n",
            "1/1 [==============================] - 0s 5ms/step - loss: 1.2789e-08\n",
            "Epoch 88/300\n",
            "1/1 [==============================] - 0s 4ms/step - loss: 2.2526e-08\n",
            "Epoch 89/300\n",
            "1/1 [==============================] - 0s 4ms/step - loss: 1.4996e-09\n",
            "Epoch 90/300\n",
            "1/1 [==============================] - 0s 9ms/step - loss: 2.4578e-08\n",
            "Epoch 91/300\n",
            "1/1 [==============================] - 0s 4ms/step - loss: 1.1567e-08\n",
            "Epoch 92/300\n",
            "1/1 [==============================] - 0s 4ms/step - loss: 1.8965e-08\n",
            "Epoch 93/300\n",
            "1/1 [==============================] - 0s 5ms/step - loss: 2.6878e-08\n",
            "Epoch 94/300\n",
            "1/1 [==============================] - 0s 3ms/step - loss: 1.7772e-08\n",
            "Epoch 95/300\n",
            "1/1 [==============================] - 0s 4ms/step - loss: 3.4025e-08\n",
            "Epoch 96/300\n",
            "1/1 [==============================] - 0s 5ms/step - loss: 2.4243e-08\n",
            "Epoch 97/300\n",
            "1/1 [==============================] - 0s 5ms/step - loss: 2.9965e-08\n",
            "Epoch 98/300\n",
            "1/1 [==============================] - 0s 3ms/step - loss: 3.2775e-08\n",
            "Epoch 99/300\n",
            "1/1 [==============================] - 0s 6ms/step - loss: 2.6104e-08\n",
            "Epoch 100/300\n",
            "1/1 [==============================] - 0s 4ms/step - loss: 3.4395e-08\n",
            "Epoch 101/300\n",
            "1/1 [==============================] - 0s 4ms/step - loss: 2.4915e-08\n",
            "Epoch 102/300\n",
            "1/1 [==============================] - 0s 3ms/step - loss: 2.8842e-08\n",
            "Epoch 103/300\n",
            "1/1 [==============================] - 0s 4ms/step - loss: 2.4957e-08\n",
            "Epoch 104/300\n",
            "1/1 [==============================] - 0s 4ms/step - loss: 2.0555e-08\n",
            "Epoch 105/300\n",
            "1/1 [==============================] - 0s 5ms/step - loss: 2.2488e-08\n",
            "Epoch 106/300\n",
            "1/1 [==============================] - 0s 4ms/step - loss: 1.5274e-08\n",
            "Epoch 107/300\n",
            "1/1 [==============================] - 0s 3ms/step - loss: 1.6801e-08\n",
            "Epoch 108/300\n",
            "1/1 [==============================] - 0s 4ms/step - loss: 1.1843e-08\n",
            "Epoch 109/300\n",
            "1/1 [==============================] - 0s 3ms/step - loss: 1.0343e-08\n",
            "Epoch 110/300\n",
            "1/1 [==============================] - 0s 5ms/step - loss: 9.2266e-09\n",
            "Epoch 111/300\n",
            "1/1 [==============================] - 0s 4ms/step - loss: 5.7462e-09\n",
            "Epoch 112/300\n",
            "1/1 [==============================] - 0s 4ms/step - loss: 6.6411e-09\n",
            "Epoch 113/300\n",
            "1/1 [==============================] - 0s 4ms/step - loss: 3.4124e-09\n",
            "Epoch 114/300\n",
            "1/1 [==============================] - 0s 4ms/step - loss: 3.2720e-09\n",
            "Epoch 115/300\n",
            "1/1 [==============================] - 0s 4ms/step - loss: 2.3509e-09\n",
            "Epoch 116/300\n",
            "1/1 [==============================] - 0s 3ms/step - loss: 1.0386e-09\n",
            "Epoch 117/300\n",
            "1/1 [==============================] - 0s 3ms/step - loss: 1.4552e-09\n",
            "Epoch 118/300\n",
            "1/1 [==============================] - 0s 4ms/step - loss: 1.9718e-10\n",
            "Epoch 119/300\n",
            "1/1 [==============================] - 0s 4ms/step - loss: 6.7303e-10\n",
            "Epoch 120/300\n",
            "1/1 [==============================] - 0s 4ms/step - loss: 3.0050e-10\n",
            "Epoch 121/300\n",
            "1/1 [==============================] - 0s 6ms/step - loss: 2.0264e-10\n",
            "Epoch 122/300\n",
            "1/1 [==============================] - 0s 5ms/step - loss: 5.0859e-10\n",
            "Epoch 123/300\n",
            "1/1 [==============================] - 0s 5ms/step - loss: 2.1901e-10\n",
            "Epoch 124/300\n",
            "1/1 [==============================] - 0s 7ms/step - loss: 7.3924e-10\n",
            "Epoch 125/300\n",
            "1/1 [==============================] - 0s 5ms/step - loss: 5.5952e-10\n",
            "Epoch 126/300\n",
            "1/1 [==============================] - 0s 6ms/step - loss: 7.8580e-10\n",
            "Epoch 127/300\n",
            "1/1 [==============================] - 0s 7ms/step - loss: 9.3751e-10\n",
            "Epoch 128/300\n",
            "1/1 [==============================] - 0s 10ms/step - loss: 8.6475e-10\n",
            "Epoch 129/300\n",
            "1/1 [==============================] - 0s 7ms/step - loss: 1.1667e-09\n",
            "Epoch 130/300\n",
            "1/1 [==============================] - 0s 5ms/step - loss: 8.5929e-10\n",
            "Epoch 131/300\n",
            "1/1 [==============================] - 0s 3ms/step - loss: 1.1074e-09\n",
            "Epoch 132/300\n",
            "1/1 [==============================] - 0s 6ms/step - loss: 8.8876e-10\n",
            "Epoch 133/300\n",
            "1/1 [==============================] - 0s 6ms/step - loss: 1.0401e-09\n",
            "Epoch 134/300\n",
            "1/1 [==============================] - 0s 5ms/step - loss: 8.6475e-10\n",
            "Epoch 135/300\n",
            "1/1 [==============================] - 0s 6ms/step - loss: 8.1745e-10\n",
            "Epoch 136/300\n",
            "1/1 [==============================] - 0s 4ms/step - loss: 8.3674e-10\n",
            "Epoch 137/300\n",
            "1/1 [==============================] - 0s 24ms/step - loss: 6.3083e-10\n",
            "Epoch 138/300\n",
            "1/1 [==============================] - 0s 10ms/step - loss: 7.1523e-10\n",
            "Epoch 139/300\n",
            "1/1 [==============================] - 0s 9ms/step - loss: 4.8676e-10\n",
            "Epoch 140/300\n",
            "1/1 [==============================] - 0s 10ms/step - loss: 4.6202e-10\n",
            "Epoch 141/300\n",
            "1/1 [==============================] - 0s 6ms/step - loss: 3.8453e-10\n",
            "Epoch 142/300\n",
            "1/1 [==============================] - 0s 23ms/step - loss: 2.8922e-10\n",
            "Epoch 143/300\n",
            "1/1 [==============================] - 0s 20ms/step - loss: 2.3902e-10\n",
            "Epoch 144/300\n",
            "1/1 [==============================] - 0s 5ms/step - loss: 1.3279e-10\n",
            "Epoch 145/300\n",
            "1/1 [==============================] - 0s 4ms/step - loss: 1.3570e-10\n",
            "Epoch 146/300\n",
            "1/1 [==============================] - 0s 6ms/step - loss: 5.4570e-11\n",
            "Epoch 147/300\n",
            "1/1 [==============================] - 0s 6ms/step - loss: 4.5839e-11\n",
            "Epoch 148/300\n",
            "1/1 [==============================] - 0s 14ms/step - loss: 3.5288e-11\n",
            "Epoch 149/300\n",
            "1/1 [==============================] - 0s 6ms/step - loss: 4.3292e-11\n",
            "Epoch 150/300\n",
            "1/1 [==============================] - 0s 5ms/step - loss: 0.0000e+00\n",
            "Epoch 151/300\n",
            "1/1 [==============================] - 0s 11ms/step - loss: 8.0036e-12\n",
            "Epoch 152/300\n",
            "1/1 [==============================] - 0s 5ms/step - loss: 2.2555e-11\n",
            "Epoch 153/300\n",
            "1/1 [==============================] - 0s 7ms/step - loss: 2.2555e-11\n",
            "Epoch 154/300\n",
            "1/1 [==============================] - 0s 12ms/step - loss: 2.2555e-11\n",
            "Epoch 155/300\n",
            "1/1 [==============================] - 0s 11ms/step - loss: 2.2555e-11\n",
            "Epoch 156/300\n",
            "1/1 [==============================] - 0s 8ms/step - loss: 2.2555e-11\n",
            "Epoch 157/300\n",
            "1/1 [==============================] - 0s 19ms/step - loss: 2.6921e-11\n",
            "Epoch 158/300\n",
            "1/1 [==============================] - 0s 9ms/step - loss: 2.2555e-11\n",
            "Epoch 159/300\n",
            "1/1 [==============================] - 0s 6ms/step - loss: 4.4383e-11\n",
            "Epoch 160/300\n",
            "1/1 [==============================] - 0s 6ms/step - loss: 2.2555e-11\n",
            "Epoch 161/300\n",
            "1/1 [==============================] - 0s 4ms/step - loss: 2.6921e-11\n",
            "Epoch 162/300\n",
            "1/1 [==============================] - 0s 6ms/step - loss: 2.6921e-11\n",
            "Epoch 163/300\n",
            "1/1 [==============================] - 0s 5ms/step - loss: 2.2555e-11\n",
            "Epoch 164/300\n",
            "1/1 [==============================] - 0s 8ms/step - loss: 4.4383e-11\n",
            "Epoch 165/300\n",
            "1/1 [==============================] - 0s 5ms/step - loss: 2.2555e-11\n",
            "Epoch 166/300\n",
            "1/1 [==============================] - 0s 4ms/step - loss: 2.6921e-11\n",
            "Epoch 167/300\n",
            "1/1 [==============================] - 0s 5ms/step - loss: 2.6921e-11\n",
            "Epoch 168/300\n",
            "1/1 [==============================] - 0s 5ms/step - loss: 2.2555e-11\n",
            "Epoch 169/300\n",
            "1/1 [==============================] - 0s 6ms/step - loss: 4.4383e-11\n",
            "Epoch 170/300\n",
            "1/1 [==============================] - 0s 5ms/step - loss: 2.2555e-11\n",
            "Epoch 171/300\n",
            "1/1 [==============================] - 0s 5ms/step - loss: 2.6921e-11\n",
            "Epoch 172/300\n",
            "1/1 [==============================] - 0s 7ms/step - loss: 2.6921e-11\n",
            "Epoch 173/300\n",
            "1/1 [==============================] - 0s 6ms/step - loss: 2.2555e-11\n",
            "Epoch 174/300\n",
            "1/1 [==============================] - 0s 5ms/step - loss: 4.4383e-11\n",
            "Epoch 175/300\n",
            "1/1 [==============================] - 0s 6ms/step - loss: 2.2555e-11\n",
            "Epoch 176/300\n",
            "1/1 [==============================] - 0s 5ms/step - loss: 2.6921e-11\n",
            "Epoch 177/300\n",
            "1/1 [==============================] - 0s 5ms/step - loss: 2.6921e-11\n",
            "Epoch 178/300\n",
            "1/1 [==============================] - 0s 5ms/step - loss: 2.2555e-11\n",
            "Epoch 179/300\n",
            "1/1 [==============================] - 0s 5ms/step - loss: 4.4383e-11\n",
            "Epoch 180/300\n",
            "1/1 [==============================] - 0s 7ms/step - loss: 2.2555e-11\n",
            "Epoch 181/300\n",
            "1/1 [==============================] - 0s 13ms/step - loss: 2.6921e-11\n",
            "Epoch 182/300\n",
            "1/1 [==============================] - 0s 11ms/step - loss: 2.6921e-11\n",
            "Epoch 183/300\n",
            "1/1 [==============================] - 0s 26ms/step - loss: 2.2555e-11\n",
            "Epoch 184/300\n",
            "1/1 [==============================] - 0s 24ms/step - loss: 4.4383e-11\n",
            "Epoch 185/300\n",
            "1/1 [==============================] - 0s 21ms/step - loss: 2.2555e-11\n",
            "Epoch 186/300\n",
            "1/1 [==============================] - 0s 18ms/step - loss: 2.6921e-11\n",
            "Epoch 187/300\n",
            "1/1 [==============================] - 0s 6ms/step - loss: 2.6921e-11\n",
            "Epoch 188/300\n",
            "1/1 [==============================] - 0s 13ms/step - loss: 2.2555e-11\n",
            "Epoch 189/300\n",
            "1/1 [==============================] - 0s 6ms/step - loss: 4.4383e-11\n",
            "Epoch 190/300\n",
            "1/1 [==============================] - 0s 7ms/step - loss: 2.2555e-11\n",
            "Epoch 191/300\n",
            "1/1 [==============================] - 0s 7ms/step - loss: 2.6921e-11\n",
            "Epoch 192/300\n",
            "1/1 [==============================] - 0s 8ms/step - loss: 2.6921e-11\n",
            "Epoch 193/300\n",
            "1/1 [==============================] - 0s 6ms/step - loss: 2.2555e-11\n",
            "Epoch 194/300\n",
            "1/1 [==============================] - 0s 6ms/step - loss: 4.4383e-11\n",
            "Epoch 195/300\n",
            "1/1 [==============================] - 0s 6ms/step - loss: 2.2555e-11\n",
            "Epoch 196/300\n",
            "1/1 [==============================] - 0s 5ms/step - loss: 2.6921e-11\n",
            "Epoch 197/300\n",
            "1/1 [==============================] - 0s 6ms/step - loss: 2.6921e-11\n",
            "Epoch 198/300\n",
            "1/1 [==============================] - 0s 8ms/step - loss: 2.2555e-11\n",
            "Epoch 199/300\n",
            "1/1 [==============================] - 0s 5ms/step - loss: 4.4383e-11\n",
            "Epoch 200/300\n",
            "1/1 [==============================] - 0s 4ms/step - loss: 2.2555e-11\n",
            "Epoch 201/300\n",
            "1/1 [==============================] - 0s 6ms/step - loss: 2.6921e-11\n",
            "Epoch 202/300\n",
            "1/1 [==============================] - 0s 5ms/step - loss: 2.6921e-11\n",
            "Epoch 203/300\n",
            "1/1 [==============================] - 0s 8ms/step - loss: 2.2555e-11\n",
            "Epoch 204/300\n",
            "1/1 [==============================] - 0s 6ms/step - loss: 2.2555e-11\n",
            "Epoch 205/300\n",
            "1/1 [==============================] - 0s 8ms/step - loss: 2.2555e-11\n",
            "Epoch 206/300\n",
            "1/1 [==============================] - 0s 31ms/step - loss: 2.2555e-11\n",
            "Epoch 207/300\n",
            "1/1 [==============================] - 0s 5ms/step - loss: 2.2555e-11\n",
            "Epoch 208/300\n",
            "1/1 [==============================] - 0s 6ms/step - loss: 2.2555e-11\n",
            "Epoch 209/300\n",
            "1/1 [==============================] - 0s 11ms/step - loss: 2.2555e-11\n",
            "Epoch 210/300\n",
            "1/1 [==============================] - 0s 10ms/step - loss: 2.6921e-11\n",
            "Epoch 211/300\n",
            "1/1 [==============================] - 0s 5ms/step - loss: 2.2555e-11\n",
            "Epoch 212/300\n",
            "1/1 [==============================] - 0s 20ms/step - loss: 4.4383e-11\n",
            "Epoch 213/300\n",
            "1/1 [==============================] - 0s 13ms/step - loss: 2.2555e-11\n",
            "Epoch 214/300\n",
            "1/1 [==============================] - 0s 10ms/step - loss: 2.6921e-11\n",
            "Epoch 215/300\n",
            "1/1 [==============================] - 0s 18ms/step - loss: 2.2555e-11\n",
            "Epoch 216/300\n",
            "1/1 [==============================] - 0s 11ms/step - loss: 4.4383e-11\n",
            "Epoch 217/300\n",
            "1/1 [==============================] - 0s 7ms/step - loss: 2.2555e-11\n",
            "Epoch 218/300\n",
            "1/1 [==============================] - 0s 7ms/step - loss: 2.6921e-11\n",
            "Epoch 219/300\n",
            "1/1 [==============================] - 0s 5ms/step - loss: 2.2555e-11\n",
            "Epoch 220/300\n",
            "1/1 [==============================] - 0s 4ms/step - loss: 4.4383e-11\n",
            "Epoch 221/300\n",
            "1/1 [==============================] - 0s 4ms/step - loss: 2.2555e-11\n",
            "Epoch 222/300\n",
            "1/1 [==============================] - 0s 3ms/step - loss: 2.6921e-11\n",
            "Epoch 223/300\n",
            "1/1 [==============================] - 0s 4ms/step - loss: 2.2555e-11\n",
            "Epoch 224/300\n",
            "1/1 [==============================] - 0s 4ms/step - loss: 4.4383e-11\n",
            "Epoch 225/300\n",
            "1/1 [==============================] - 0s 3ms/step - loss: 2.2555e-11\n",
            "Epoch 226/300\n",
            "1/1 [==============================] - 0s 4ms/step - loss: 2.6921e-11\n",
            "Epoch 227/300\n",
            "1/1 [==============================] - 0s 4ms/step - loss: 2.2555e-11\n",
            "Epoch 228/300\n",
            "1/1 [==============================] - 0s 5ms/step - loss: 4.4383e-11\n",
            "Epoch 229/300\n",
            "1/1 [==============================] - 0s 4ms/step - loss: 2.2555e-11\n",
            "Epoch 230/300\n",
            "1/1 [==============================] - 0s 4ms/step - loss: 2.6921e-11\n",
            "Epoch 231/300\n",
            "1/1 [==============================] - 0s 21ms/step - loss: 2.2555e-11\n",
            "Epoch 232/300\n",
            "1/1 [==============================] - 0s 5ms/step - loss: 4.4383e-11\n",
            "Epoch 233/300\n",
            "1/1 [==============================] - 0s 10ms/step - loss: 2.2555e-11\n",
            "Epoch 234/300\n",
            "1/1 [==============================] - 0s 6ms/step - loss: 2.6921e-11\n",
            "Epoch 235/300\n",
            "1/1 [==============================] - 0s 7ms/step - loss: 2.2555e-11\n",
            "Epoch 236/300\n",
            "1/1 [==============================] - 0s 5ms/step - loss: 4.4383e-11\n",
            "Epoch 237/300\n",
            "1/1 [==============================] - 0s 13ms/step - loss: 2.2555e-11\n",
            "Epoch 238/300\n",
            "1/1 [==============================] - 0s 15ms/step - loss: 2.6921e-11\n",
            "Epoch 239/300\n",
            "1/1 [==============================] - 0s 17ms/step - loss: 2.2555e-11\n",
            "Epoch 240/300\n",
            "1/1 [==============================] - 0s 14ms/step - loss: 4.4383e-11\n",
            "Epoch 241/300\n",
            "1/1 [==============================] - 0s 7ms/step - loss: 2.2555e-11\n",
            "Epoch 242/300\n",
            "1/1 [==============================] - 0s 13ms/step - loss: 2.6921e-11\n",
            "Epoch 243/300\n",
            "1/1 [==============================] - 0s 7ms/step - loss: 2.2555e-11\n",
            "Epoch 244/300\n",
            "1/1 [==============================] - 0s 5ms/step - loss: 4.4383e-11\n",
            "Epoch 245/300\n",
            "1/1 [==============================] - 0s 9ms/step - loss: 2.2555e-11\n",
            "Epoch 246/300\n",
            "1/1 [==============================] - 0s 6ms/step - loss: 2.6921e-11\n",
            "Epoch 247/300\n",
            "1/1 [==============================] - 0s 9ms/step - loss: 2.2555e-11\n",
            "Epoch 248/300\n",
            "1/1 [==============================] - 0s 13ms/step - loss: 4.4383e-11\n",
            "Epoch 249/300\n",
            "1/1 [==============================] - 0s 6ms/step - loss: 2.2555e-11\n",
            "Epoch 250/300\n",
            "1/1 [==============================] - 0s 5ms/step - loss: 2.6921e-11\n",
            "Epoch 251/300\n",
            "1/1 [==============================] - 0s 5ms/step - loss: 2.2555e-11\n",
            "Epoch 252/300\n",
            "1/1 [==============================] - 0s 4ms/step - loss: 4.4383e-11\n",
            "Epoch 253/300\n",
            "1/1 [==============================] - 0s 7ms/step - loss: 2.2555e-11\n",
            "Epoch 254/300\n",
            "1/1 [==============================] - 0s 4ms/step - loss: 2.6921e-11\n",
            "Epoch 255/300\n",
            "1/1 [==============================] - 0s 5ms/step - loss: 2.2555e-11\n",
            "Epoch 256/300\n",
            "1/1 [==============================] - 0s 7ms/step - loss: 4.4383e-11\n",
            "Epoch 257/300\n",
            "1/1 [==============================] - 0s 4ms/step - loss: 2.2555e-11\n",
            "Epoch 258/300\n",
            "1/1 [==============================] - 0s 4ms/step - loss: 2.6921e-11\n",
            "Epoch 259/300\n",
            "1/1 [==============================] - 0s 5ms/step - loss: 2.2555e-11\n",
            "Epoch 260/300\n",
            "1/1 [==============================] - 0s 6ms/step - loss: 4.4383e-11\n",
            "Epoch 261/300\n",
            "1/1 [==============================] - 0s 4ms/step - loss: 2.2555e-11\n",
            "Epoch 262/300\n",
            "1/1 [==============================] - 0s 7ms/step - loss: 2.6921e-11\n",
            "Epoch 263/300\n",
            "1/1 [==============================] - 0s 4ms/step - loss: 2.2555e-11\n",
            "Epoch 264/300\n",
            "1/1 [==============================] - 0s 4ms/step - loss: 4.4383e-11\n",
            "Epoch 265/300\n",
            "1/1 [==============================] - 0s 18ms/step - loss: 2.2555e-11\n",
            "Epoch 266/300\n",
            "1/1 [==============================] - 0s 12ms/step - loss: 2.6921e-11\n",
            "Epoch 267/300\n",
            "1/1 [==============================] - 0s 4ms/step - loss: 2.2555e-11\n",
            "Epoch 268/300\n",
            "1/1 [==============================] - 0s 4ms/step - loss: 4.4383e-11\n",
            "Epoch 269/300\n",
            "1/1 [==============================] - 0s 5ms/step - loss: 2.2555e-11\n",
            "Epoch 270/300\n",
            "1/1 [==============================] - 0s 5ms/step - loss: 2.6921e-11\n",
            "Epoch 271/300\n",
            "1/1 [==============================] - 0s 5ms/step - loss: 2.2555e-11\n",
            "Epoch 272/300\n",
            "1/1 [==============================] - 0s 7ms/step - loss: 4.4383e-11\n",
            "Epoch 273/300\n",
            "1/1 [==============================] - 0s 5ms/step - loss: 2.2555e-11\n",
            "Epoch 274/300\n",
            "1/1 [==============================] - 0s 4ms/step - loss: 2.6921e-11\n",
            "Epoch 275/300\n",
            "1/1 [==============================] - 0s 4ms/step - loss: 2.2555e-11\n",
            "Epoch 276/300\n",
            "1/1 [==============================] - 0s 5ms/step - loss: 4.4383e-11\n",
            "Epoch 277/300\n",
            "1/1 [==============================] - 0s 4ms/step - loss: 2.2555e-11\n",
            "Epoch 278/300\n",
            "1/1 [==============================] - 0s 6ms/step - loss: 2.6921e-11\n",
            "Epoch 279/300\n",
            "1/1 [==============================] - 0s 12ms/step - loss: 2.2555e-11\n",
            "Epoch 280/300\n",
            "1/1 [==============================] - 0s 14ms/step - loss: 4.4383e-11\n",
            "Epoch 281/300\n",
            "1/1 [==============================] - 0s 11ms/step - loss: 2.2555e-11\n",
            "Epoch 282/300\n",
            "1/1 [==============================] - 0s 6ms/step - loss: 2.6921e-11\n",
            "Epoch 283/300\n",
            "1/1 [==============================] - 0s 10ms/step - loss: 2.2555e-11\n",
            "Epoch 284/300\n",
            "1/1 [==============================] - 0s 13ms/step - loss: 4.4383e-11\n",
            "Epoch 285/300\n",
            "1/1 [==============================] - 0s 24ms/step - loss: 2.2555e-11\n",
            "Epoch 286/300\n",
            "1/1 [==============================] - 0s 17ms/step - loss: 2.6921e-11\n",
            "Epoch 287/300\n",
            "1/1 [==============================] - 0s 15ms/step - loss: 2.2555e-11\n",
            "Epoch 288/300\n",
            "1/1 [==============================] - 0s 31ms/step - loss: 4.4383e-11\n",
            "Epoch 289/300\n",
            "1/1 [==============================] - 0s 11ms/step - loss: 2.2555e-11\n",
            "Epoch 290/300\n",
            "1/1 [==============================] - 0s 15ms/step - loss: 2.6921e-11\n",
            "Epoch 291/300\n",
            "1/1 [==============================] - 0s 9ms/step - loss: 2.2555e-11\n",
            "Epoch 292/300\n",
            "1/1 [==============================] - 0s 6ms/step - loss: 4.4383e-11\n",
            "Epoch 293/300\n",
            "1/1 [==============================] - 0s 12ms/step - loss: 2.2555e-11\n",
            "Epoch 294/300\n",
            "1/1 [==============================] - 0s 6ms/step - loss: 2.6921e-11\n",
            "Epoch 295/300\n",
            "1/1 [==============================] - 0s 16ms/step - loss: 2.2555e-11\n",
            "Epoch 296/300\n",
            "1/1 [==============================] - 0s 12ms/step - loss: 4.4383e-11\n",
            "Epoch 297/300\n",
            "1/1 [==============================] - 0s 6ms/step - loss: 2.2555e-11\n",
            "Epoch 298/300\n",
            "1/1 [==============================] - 0s 4ms/step - loss: 2.6921e-11\n",
            "Epoch 299/300\n",
            "1/1 [==============================] - 0s 3ms/step - loss: 2.2555e-11\n",
            "Epoch 300/300\n",
            "1/1 [==============================] - 0s 3ms/step - loss: 4.4383e-11\n"
          ]
        }
      ]
    },
    {
      "cell_type": "code",
      "metadata": {
        "id": "3ZVJ4y4hRjb4",
        "colab": {
          "base_uri": "https://localhost:8080/",
          "height": 295
        },
        "outputId": "e4dadbb5-dc14-409c-ab08-5fa7bcc092a7"
      },
      "source": [
        "#evaluando el modelo como aprende\n",
        "plt.plot(historial.history[\"loss\"])\n",
        "plt.title(\"progreso del aprendizaje\")\n",
        "plt.xlabel(\"vuelta\")\n",
        "plt.ylabel(\"error de aprendizaje\")\n",
        "plt.legend(\"aprendizaje automatico\")\n",
        "plt.show()"
      ],
      "execution_count": null,
      "outputs": [
        {
          "output_type": "display_data",
          "data": {
            "image/png": "[encoded data removed]",
            "text/plain": [
              "<Figure size 432x288 with 1 Axes>"
            ]
          },
          "metadata": {
            "needs_background": "light"
          }
        }
      ]
    },
    {
      "cell_type": "code",
      "metadata": {
        "id": "49eM7o6DPbSD",
        "colab": {
          "base_uri": "https://localhost:8080/"
        },
        "outputId": "2d8de4f0-9814-4c39-f208-0dfcf126862c"
      },
      "source": [
        "f = modelo.predict([200])\n",
        "print(f)"
      ],
      "execution_count": null,
      "outputs": [
        {
          "output_type": "stream",
          "name": "stdout",
          "text": [
            "[[392.00006]]\n"
          ]
        }
      ]
    },
    {
      "cell_type": "markdown",
      "metadata": {
        "id": "hBOPddnC0cV5"
      },
      "source": [
        "# **Clases 29/09/2021**"
      ]
    },
    {
      "cell_type": "code",
      "metadata": {
        "id": "aJmYu45C0lKe"
      },
      "source": [
        "#Importar las librerias\n",
        "import tensorflow as tf\n",
        "import pandas as pd\n",
        "import matplotlib.pyplot as plt\n",
        "import seaborn as sns"
      ],
      "execution_count": null,
      "outputs": []
    },
    {
      "cell_type": "code",
      "metadata": {
        "id": "3LhH-27F2l8t",
        "colab": {
          "base_uri": "https://localhost:8080/"
        },
        "outputId": "23ec5ee7-71c9-4dc7-a018-eb0c8cce8509"
      },
      "source": [
        "#d\n",
        "temperaturas = pd.read_csv(\"/content/F a K 3.csv\",sep=\";\")\n",
        "print(temperaturas)"
      ],
      "execution_count": null,
      "outputs": [
        {
          "output_type": "stream",
          "name": "stdout",
          "text": [
            "    fahrenheit   kelvin\n",
            "0         -100  199.817\n",
            "1          -90  205.372\n",
            "2          -50  227.594\n",
            "3          -40  233.150\n",
            "4          -30  238.706\n",
            "5          -25  241.483\n",
            "6          -20  244.261\n",
            "7          -10  249.817\n",
            "8           -5  252.594\n",
            "9           -4  253.150\n",
            "10          -3  253.706\n",
            "11          -2  254.261\n",
            "12          -1  254.817\n",
            "13           0  255.372\n",
            "14           1  255.928\n",
            "15           2  256.483\n",
            "16           3  257.039\n",
            "17           4  257.594\n",
            "18           5  258.150\n",
            "19          10  260.928\n",
            "20          15  263.706\n",
            "21          20  266.483\n",
            "22          25  269.261\n",
            "23          30  272.039\n",
            "24          35  274.817\n",
            "25          40  277.594\n",
            "26          45  280.372\n"
          ]
        }
      ]
    },
    {
      "cell_type": "code",
      "metadata": {
        "id": "UN07Pn4X2w0h"
      },
      "source": [
        "#datos de entrenamiento\n",
        "fahrenheit = temperaturas[\"fahrenheit\"]\n",
        "kelvin = temperaturas[\"kelvin\"]"
      ],
      "execution_count": null,
      "outputs": []
    },
    {
      "cell_type": "code",
      "metadata": {
        "id": "bSvgFYmE3D3m"
      },
      "source": [
        "#modelo de entrenamiento\n",
        "modelo = tf.keras.Sequential()\n",
        "modelo.add(tf.keras.layers.Dense(units=1, input_shape=[1]))"
      ],
      "execution_count": null,
      "outputs": []
    },
    {
      "cell_type": "code",
      "metadata": {
        "id": "CJZ5FhKt3MFD"
      },
      "source": [
        "#copilar el modelo\n",
        "modelo.compile(optimizer=tf.keras.optimizers.Adam(1), loss='mean_squared_error')"
      ],
      "execution_count": null,
      "outputs": []
    },
    {
      "cell_type": "code",
      "metadata": {
        "id": "rEqcQa1o3ShL"
      },
      "source": [
        "#entrenamiento de nuestro modelo de Aprendizaje\n",
        "historial = modelo.fit(fahrenheit, kelvin, epochs=1000,verbose=0)"
      ],
      "execution_count": null,
      "outputs": []
    },
    {
      "cell_type": "code",
      "metadata": {
        "id": "x_kG8EJF3iru",
        "colab": {
          "base_uri": "https://localhost:8080/"
        },
        "outputId": "e03c9589-8d0e-4d54-80c8-eac1ea34ab11"
      },
      "source": [
        "k = modelo.predict([8])\n",
        "print(k)"
      ],
      "execution_count": null,
      "outputs": [
        {
          "output_type": "stream",
          "name": "stdout",
          "text": [
            "[[259.81064]]\n"
          ]
        }
      ]
    },
    {
      "cell_type": "markdown",
      "metadata": {
        "id": "giqz2mxyC5RR"
      },
      "source": [
        "# **Clase Presencial 04/10/2021**"
      ]
    },
    {
      "cell_type": "markdown",
      "metadata": {
        "id": "qEaQzc4eHZFU"
      },
      "source": [
        "uso de tensorflow para entrenar una red neuronal que aprenda a leer numeros"
      ]
    },
    {
      "cell_type": "code",
      "metadata": {
        "id": "n2M86W-eC43p"
      },
      "source": [
        "#Importar las librerias\n",
        "import tensorflow as tf\n",
        "import tensorflow_datasets as tfds\n",
        "import math\n",
        "import numpy as np\n",
        "import matplotlib.pyplot as plt"
      ],
      "execution_count": 42,
      "outputs": []
    },
    {
      "cell_type": "code",
      "metadata": {
        "id": "rzCHmlafIMte"
      },
      "source": [
        "#cargamos en dataset de entrenamiento y prueba, los numeros del 0-9\n",
        "dataset, metadata = tfds.load(\"mnist\", as_supervised=True,with_info=True)\n",
        "datos_entrenamiento, datos_prueba = dataset[\"train\"],dataset[\"test\"]"
      ],
      "execution_count": 43,
      "outputs": []
    },
    {
      "cell_type": "code",
      "metadata": {
        "id": "WKfnmIClJ7JG"
      },
      "source": [
        "numeros_letras = [\"cero\",\"uno\",\"dos\",\"tres\",\"cuatro\",\"cinco\",\"seis\",\"siete\",\"ocho\",\"nueve\"]"
      ],
      "execution_count": 44,
      "outputs": []
    },
    {
      "cell_type": "code",
      "metadata": {
        "id": "8rnJ7GU0KkFz",
        "colab": {
          "base_uri": "https://localhost:8080/"
        },
        "outputId": "98c06127-f253-4fbd-c6ba-4ce1ec7eeb6c"
      },
      "source": [
        "#pasamos en variables los datos de ejemplo de entrenamiento y prueba\n",
        "numeros_ejemplo_entrenamiento = metadata.splits[\"train\"].num_examples\n",
        "numeros_ejemplo_prueba = metadata.splits[\"test\"].num_examples\n",
        "print(numeros_ejemplo_entrenamiento, numeros_ejemplo_prueba)"
      ],
      "execution_count": 45,
      "outputs": [
        {
          "output_type": "stream",
          "name": "stdout",
          "text": [
            "60000 10000\n"
          ]
        }
      ]
    },
    {
      "cell_type": "code",
      "metadata": {
        "id": "QbVM4PD1LaN3"
      },
      "source": [
        "#vamos a pasar los numeros(pixeles) que van de 0 - 255 de 0 - 1\n",
        "def normalizacion(images, labels):\n",
        "  images = tf.cast(images, tf.float32)\n",
        "  images /= 255\n",
        "  return images, labels"
      ],
      "execution_count": 46,
      "outputs": []
    },
    {
      "cell_type": "code",
      "metadata": {
        "id": "U88u3XiwMEYh"
      },
      "source": [
        "#Llamamos nuestra imagen normalizadora para convertir los numeros(pixeles) de 0 - 255 sean de 0 - 1\n",
        "datos_entrenamiento = datos_entrenamiento.map(normalizacion)\n",
        "datos_prueba = datos_prueba.map(normalizacion)"
      ],
      "execution_count": 47,
      "outputs": []
    },
    {
      "cell_type": "code",
      "metadata": {
        "id": "eV2GwuL3Mv25"
      },
      "source": [
        "#crear la estructura de nuestra red neuronal\n",
        "modelo = tf.keras.Sequential([\n",
        "  tf.keras.layers.Flatten(input_shape= (28,28,1)), #28*28 neuronas una para cada pixel\n",
        "  tf.keras.layers.Dense(64, activation=tf.nn.relu),\n",
        "  tf.keras.layers.Dense(64, activation=tf.nn.relu),\n",
        "  tf.keras.layers.Dense(10, activation=tf.nn.softmax) #10 neuronas una para cada numero\n",
        "])"
      ],
      "execution_count": 48,
      "outputs": []
    },
    {
      "cell_type": "code",
      "metadata": {
        "id": "NXPcEoDTOsQC"
      },
      "source": [
        "#compilamos nuestro modelo\n",
        "modelo.compile(optimizer=\"adam\", loss=\"sparse_categorical_crossentropy\", metrics=[\"accuracy\"])"
      ],
      "execution_count": 49,
      "outputs": []
    },
    {
      "cell_type": "code",
      "metadata": {
        "id": "aSF1O4sCPLFr"
      },
      "source": [
        "#realizaremos el entrenamiento por lote\n",
        "batchsize= 32\n",
        "datos_entrenamiento = datos_entrenamiento.repeat().shuffle(numeros_ejemplo_entrenamiento).batch(batchsize) #ordenado de forma aleatoria\n",
        "datos_prueba = datos_prueba.batch(batchsize)"
      ],
      "execution_count": 50,
      "outputs": []
    },
    {
      "cell_type": "code",
      "metadata": {
        "id": "LKulwEBtRBD9",
        "colab": {
          "base_uri": "https://localhost:8080/"
        },
        "outputId": "17df32e5-64b8-4aeb-ea74-67e27e9f8594"
      },
      "source": [
        "#hacemos el entrenamiento de nuestra red neuronal con los datos de entrenamiento\n",
        "modelo.fit(datos_entrenamiento, epochs=5, steps_per_epoch=math.ceil(numeros_ejemplo_entrenamiento/batchsize)) "
      ],
      "execution_count": 52,
      "outputs": [
        {
          "output_type": "stream",
          "name": "stdout",
          "text": [
            "Epoch 1/5\n",
            "1875/1875 [==============================] - 11s 4ms/step - loss: 0.2200 - accuracy: 0.9352\n",
            "Epoch 2/5\n",
            "1875/1875 [==============================] - 8s 4ms/step - loss: 0.1153 - accuracy: 0.9650\n",
            "Epoch 3/5\n",
            "1875/1875 [==============================] - 7s 4ms/step - loss: 0.0892 - accuracy: 0.9728\n",
            "Epoch 4/5\n",
            "1875/1875 [==============================] - 9s 5ms/step - loss: 0.0702 - accuracy: 0.9782\n",
            "Epoch 5/5\n",
            "1875/1875 [==============================] - 8s 4ms/step - loss: 0.0551 - accuracy: 0.9827\n"
          ]
        },
        {
          "output_type": "execute_result",
          "data": {
            "text/plain": [
              "<keras.callbacks.History at 0x7fb272548b50>"
            ]
          },
          "metadata": {},
          "execution_count": 52
        }
      ]
    },
    {
      "cell_type": "code",
      "metadata": {
        "id": "QhXRh5jehcGJ",
        "outputId": "9527e869-f4ed-4edf-fdbf-52cfb0c8738b",
        "colab": {
          "base_uri": "https://localhost:8080/"
        }
      },
      "source": [
        "#evaluar nuestro modelo con los datos de prueba\n",
        "test_loss, test_accuracy = modelo.evaluate(datos_prueba, steps=math.ceil(numeros_ejemplo_prueba/batchsize))\n",
        "print(test_loss*100, test_accuracy*100)"
      ],
      "execution_count": 53,
      "outputs": [
        {
          "output_type": "stream",
          "name": "stdout",
          "text": [
            "313/313 [==============================] - 2s 6ms/step - loss: 0.0863 - accuracy: 0.9730\n",
            "8.632604032754898 97.29999899864197\n"
          ]
        }
      ]
    },
    {
      "cell_type": "code",
      "metadata": {
        "id": "yuKpReA9i7FR"
      },
      "source": [
        "#graficar la salida para evaluar el aprendizaje\n",
        "def graficar_images(i,predictions_array, true_labels, images):\n",
        "  predictions_array, true_labels,img = predictions_array[i], true_labels[i], images[i]\n",
        "  plt.grid(False)\n",
        "  plt.xticks([])\n",
        "  plt.yticks([])\n",
        "  plt.imshow(img[...,0], cmap=plt.cm.binary)\n",
        "\n",
        "  predicted_label = np.argmax(predictions_array)\n",
        "  if predicted_label==true_labels:\n",
        "    color = \"purple\"\n",
        "  else:\n",
        "    color = \"red\"\n",
        "  plt.xlabel(\"Prediccion: {}\".format(numeros_letras[predicted_label]), color=color)"
      ],
      "execution_count": 54,
      "outputs": []
    },
    {
      "cell_type": "code",
      "metadata": {
        "id": "cCdI01s_lL7k"
      },
      "source": [
        "#convertir las imagenes de tensores en matrices con numpy\n",
        "for imagenes_prueba, etiquetas_prueba in datos_prueba.take(1):\n",
        "  imagenes_prueba = imagenes_prueba.numpy()\n",
        "  etiquetas_prueba = etiquetas_prueba.numpy()\n",
        "  predicciones = modelo.predict(imagenes_prueba)"
      ],
      "execution_count": 56,
      "outputs": []
    },
    {
      "cell_type": "code",
      "metadata": {
        "id": "ZCq8f3xXmXc6"
      },
      "source": [
        "#graficar las matrices en imganes con matplotlib para ver su acierto\n",
        "def graficar_valores_matrices(i, predictions_array, true_label):\n",
        "  predictions_array, true_label = predictions_array[i], true_label[i]\n",
        "  plt.grid(False)\n",
        "  plt.xticks([])\n",
        "  plt.yticks([])\n",
        "  thisplot = plt.bar(range(10), predictions_array, color = \"#888888\")\n",
        "  plt.ylim([0,1])\n",
        "  predicted_label = np.argmax(predictions_array)\n",
        "\n",
        "  thisplot[predicted_label].set_color(\"red\")\n",
        "  thisplot[true_label].set_color(\"purple\")"
      ],
      "execution_count": 57,
      "outputs": []
    },
    {
      "cell_type": "code",
      "metadata": {
        "id": "NYsgaDq2ovWj",
        "outputId": "6716e24b-9d22-49f7-ed42-d8ffa6f7db59",
        "colab": {
          "base_uri": "https://localhost:8080/",
          "height": 589
        }
      },
      "source": [
        "#llamamos los metodos para la graficacion de las imagenes y la grafica de barras\n",
        "numfilas = 5\n",
        "numcols = 5\n",
        "numimages = numfilas*numcols\n",
        "\n",
        "plt.figure(figsize=(2*2*numcols, 2*numfilas))\n",
        "for i in range(numimages):\n",
        "  plt.subplot(numfilas, 2*numcols, 2*i+1)\n",
        "  graficar_images(i, predicciones, etiquetas_prueba, imagenes_prueba)\n",
        "  plt.subplot(numfilas, 2*numcols, 2*i+2)\n",
        "  graficar_valores_matrices(i, predicciones, etiquetas_prueba)\n",
        "\n",
        "plt.show()"
      ],
      "execution_count": 61,
      "outputs": [
        {
          "output_type": "display_data",
          "data": {
            "image/png": "[encoded data removed]",
            "text/plain": [
              "<Figure size 1440x720 with 50 Axes>"
            ]
          },
          "metadata": {}
        }
      ]
    }
  ]
}