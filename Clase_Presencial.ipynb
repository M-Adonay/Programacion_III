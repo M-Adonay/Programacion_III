{
  "nbformat": 4,
  "nbformat_minor": 0,
  "metadata": {
    "colab": {
      "name": "Clase Presencial",
      "provenance": [],
      "authorship_tag": "ABX9TyPzyxznxxsQtjmsFqcPHbMb",
      "include_colab_link": true
    },
    "kernelspec": {
      "name": "python3",
      "display_name": "Python 3"
    },
    "language_info": {
      "name": "python"
    }
  },
  "cells": [
    {
      "cell_type": "markdown",
      "metadata": {
        "id": "view-in-github",
        "colab_type": "text"
      },
      "source": [
        "<a href=\"https://colab.research.google.com/github/M-Adonay/Programacion_III/blob/main/Clase_Presencial.ipynb\" target=\"_parent\"><img src=\"https://colab.research.google.com/assets/colab-badge.svg\" alt=\"Open In Colab\"/></a>"
      ]
    },
    {
      "cell_type": "markdown",
      "metadata": {
        "id": "CPof5JIB1Iyv"
      },
      "source": [
        "# **Clase Presencial**\n",
        "\n"
      ]
    },
    {
      "cell_type": "markdown",
      "metadata": {
        "id": "ncAyBzYi2-V7"
      },
      "source": [
        "**Conversor repaso**"
      ]
    },
    {
      "cell_type": "code",
      "metadata": {
        "id": "ztYlZNGT1HJm"
      },
      "source": [
        "#Conversor\n",
        "etiquetas = [\n",
        "             [],#0\n",
        "             [0,\"1. Dolar\",\"2. Peso Mexicano\",\"3. Quetzles\",\"4. Colon SV\",\"5. Lempiras\",\"6. Cordobas\",\"7. Colon CR\"],#monedas\n",
        "             [0,\"1. Metros\",\"2. CM\",\"3. Pulgadas\",\"4. Pies\",\"5. Varas\",\"6. Yardas\",\"7. KM\",\"8. Millas\"],#Longitud\n",
        "             [0,\"1. Libras\",\"2. Gramos\",\"3. Kilogramos\",\"4. Onzas\",\"5. Toneladas Corta\"],#Masa\n",
        "             [0,\"1. MB\",\"2. Bits\",\"3. Byte\",\"4. KB\",\"5. GB\",\"6. TB\"]#Almacenamiento\n",
        "]\n",
        "valores = [\n",
        "           [],#\n",
        "           [0, 1, 19.91, 7.74, 8.75, 23.96, 35.11, 624.24],\n",
        "           [0, 1, 100, 39, 37, 3.28, 1.1963081929167, 1.09, 0.001, 0.00053],\n",
        "           [0, 1, 453.59, 0.45, 16, 0.0005],\n",
        "           [0, 1, 8388608, 1048576, 1024, 0.0009765625, 0.0000000953674316]\n",
        "]\n",
        "def conversores(opcion,de,a,cantidad):\n",
        "  return valores[opcion][a]/valores[opcion][de]* cantidad\n",
        "print(\"**Menu Conversores**\")\n",
        "print(\" 1.Monedas,\\n 2.Longitud \\n 3.Masa \\n4.Almacenamiento\")\n",
        "opcion = int(input(\"CONVERSOR: \"))\n",
        "\n",
        "print(etiquetas[opcion])\n",
        "de = int(input(\"DE: \"))\n",
        "a = int(input(\"A: \"))\n",
        "cantidad = float(input(\"cantidad:\"))\n",
        "\n",
        "print(etiquetas[de],\"a\",etiquetas[opcion][a],\"es:\", conversores(opcion,de,a,cantidad))"
      ],
      "execution_count": null,
      "outputs": []
    },
    {
      "cell_type": "markdown",
      "metadata": {
        "id": "0OqX_eqDFD6r"
      },
      "source": [
        "**Meses acumulados**"
      ]
    },
    {
      "cell_type": "code",
      "metadata": {
        "colab": {
          "base_uri": "https://localhost:8080/"
        },
        "id": "uVC0wdKFFLfP",
        "outputId": "1206d878-7955-485f-b765-b5b55de4229b"
      },
      "source": [
        "#meses\n",
        "nmeses = int(input(\"Meses: \"))\n",
        "i = 0\n",
        "acumulacion = 0\n",
        "while( i<= nmeses):\n",
        "   acumulacion +=i\n",
        "   i+=1\n",
        "print(\"Meses: \",nmeses,\"Acumulado: \",acumulacion)"
      ],
      "execution_count": null,
      "outputs": [
        {
          "output_type": "stream",
          "name": "stdout",
          "text": [
            "Meses: 10\n",
            "Meses:  10 Acumulado:  55\n"
          ]
        }
      ]
    },
    {
      "cell_type": "markdown",
      "metadata": {
        "id": "HRAmx9is-fQR"
      },
      "source": [
        "# **Clase 13/09/2021**"
      ]
    },
    {
      "cell_type": "markdown",
      "metadata": {
        "id": "LjnVcxNk-lye"
      },
      "source": [
        "Panda Ejemplo"
      ]
    },
    {
      "cell_type": "code",
      "metadata": {
        "id": "-1dTxrq7-pSV"
      },
      "source": [
        "#Pandas\n",
        "import pandas as pd\n",
        "import matplotlib.pyplot as plt"
      ],
      "execution_count": 6,
      "outputs": []
    },
    {
      "cell_type": "code",
      "metadata": {
        "id": "u8sJO93o--7r",
        "outputId": "90c4b6a3-98ef-483c-c7ca-433bda344aff",
        "colab": {
          "base_uri": "https://localhost:8080/"
        }
      },
      "source": [
        "#creando una matrix con pandas\n",
        "lenguajesProgra = pd.Series([\"VB\", \"JAVA\",\"Python\", \"HTML\", \"CSS\", \"JS\", \"C#\", \"PHP\", \"XML\"]\n",
        "                            ,index=[1,2,3,4,4,4,5,4,6])\n",
        "#(lenguajesProgra, lenguajesProgra[4])\n",
        "\n",
        "misLenguajes = {\n",
        "    1:\"VB\",\n",
        "    2:\"jAVA\",\n",
        "    3:\"Python\",\n",
        "    4:\"HTML\",\n",
        "    5:\"CSS\",\n",
        "    6:\"JS\",\n",
        "    0:\"C#\",\n",
        "    8:\"PHP\",\n",
        "    10:\"XML\"\n",
        "}\n",
        "diccionarioLenguajes=pd.Series(misLenguajes)\n",
        "print(diccionarioLenguajes, diccionarioLenguajes[1])"
      ],
      "execution_count": 5,
      "outputs": [
        {
          "output_type": "stream",
          "name": "stdout",
          "text": [
            "1         VB\n",
            "2       jAVA\n",
            "3     Python\n",
            "4       HTML\n",
            "5        CSS\n",
            "6         JS\n",
            "0         C#\n",
            "8        PHP\n",
            "10       XML\n",
            "dtype: object VB\n"
          ]
        }
      ]
    },
    {
      "cell_type": "code",
      "metadata": {
        "id": "LhpwvEkZGjp4",
        "outputId": "b963ac3b-1833-400e-d24e-0b12d2c0f2b2",
        "colab": {
          "base_uri": "https://localhost:8080/",
          "height": 418
        }
      },
      "source": [
        "#Leer archivo de notas(Excel) con pandas\n",
        "archivo = pd.read_csv(\"/content/Notas.csv\",sep=\";\",encoding=\"utf-8\")\n",
        "#print(archivo, archivo[\"notas\"])\n",
        "\n",
        "procesar= pd.crosstab(index=archivo[\"notas\"],columns=\"cant_veces_repite\")\n",
        "print(procesar)\n",
        "\n",
        "plt.pie(procesar, labels=procesar.index)\n",
        "plt.xlabel(\"Notas por estudiante\")\n",
        "plt.show()"
      ],
      "execution_count": 13,
      "outputs": [
        {
          "output_type": "stream",
          "name": "stdout",
          "text": [
            "col_0  cant_veces_repite\n",
            "notas                   \n",
            "2                      1\n",
            "3                      1\n",
            "4                      1\n",
            "9                      7\n"
          ]
        },
        {
          "output_type": "stream",
          "name": "stderr",
          "text": [
            "/usr/local/lib/python3.7/dist-packages/ipykernel_launcher.py:8: MatplotlibDeprecationWarning: Non-1D inputs to pie() are currently squeeze()d, but this behavior is deprecated since 3.1 and will be removed in 3.3; pass a 1D array instead.\n",
            "  \n"
          ]
        },
        {
          "output_type": "display_data",
          "data": {
            "image/png": "[encoded data removed]",
            "text/plain": [
              "<Figure size 432x288 with 1 Axes>"
            ]
          },
          "metadata": {}
        }
      ]
    }
  ]
}